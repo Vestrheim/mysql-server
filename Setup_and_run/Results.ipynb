{
 "cells": [
  {
   "cell_type": "code",
   "execution_count": 129,
   "metadata": {},
   "outputs": [],
   "source": [
    "%matplotlib inline\n",
    "import numpy as np\n",
    "import pandas as pa\n",
    "import seaborn as sns\n",
    "import matplotlib.pyplot as plt\n",
    "import matplotlib.gridspec as gridspec\n",
    "import glob, os\n",
    "import matplotlib.style as style \n",
    "#style.available\n",
    "plt.style.use('seaborn') \n",
    "#style.use('seaborn-poster') #sets the size of the charts\n",
    "import pprint\n",
    "from IPython.display import HTML\n",
    "\n",
    "filled_markers = ('o', 'v', '^', '<', '>', '8', 's', 'p', '*', 'h', 'H', 'D', 'd', 'P', 'X')\n",
    "dash_styles = [\"\",\n",
    "               (4, 1.5),\n",
    "               (1, 1),\n",
    "               (3, 1, 1.5, 1),\n",
    "               (5, 1, 1, 1),\n",
    "               (5, 1, 2, 1, 2, 1),\n",
    "               (2, 2, 3, 1.5),\n",
    "               (1, 2.5, 3, 1.2),\n",
    "              (4,2,2,1)]\n",
    "\n",
    "import warnings\n",
    "warnings.simplefilter(action='ignore', category=FutureWarning)"
   ]
  },
  {
   "cell_type": "code",
   "execution_count": 130,
   "metadata": {},
   "outputs": [],
   "source": [
    "#Clean up result directory first\n",
    "results_path = 'timing_results/*'\n",
    "r = glob.glob(results_path)\n",
    "for i in r:\n",
    "    os.remove(i)\n",
    "\n",
    "#Then clean the plan directory\n",
    "plans_path = 'query_plans/*'\n",
    "r = glob.glob(plans_path)\n",
    "for i in r:\n",
    "    os.remove(i)\n",
    "    \n",
    "#Then clean the timing_results directory\n",
    "timing_histogram_path = 'hist_timing_results/*'\n",
    "r = glob.glob(timing_histogram_path)\n",
    "for i in r:\n",
    "    os.remove(i)\n",
    "    \n",
    "#Setup variables\n",
    "result_list = []\n",
    "histogram_timing_results_list = []\n",
    "query_plan_list = []\n",
    "i = -1"
   ]
  },
  {
   "cell_type": "markdown",
   "metadata": {},
   "source": [
    "# Format the .result files from our mtr run so that we can import them using pandas csv importer"
   ]
  },
  {
   "cell_type": "code",
   "execution_count": 131,
   "metadata": {},
   "outputs": [],
   "source": [
    "with open(\"/home/svestrhe/Documents/Forprosjekt/code/mysql-server/mysql-test/suite/histogram_plugin/r/execute_timing_local.result\") as openfileobject:\n",
    "    for line in openfileobject:\n",
    "        if not \"#\" in line[:5]:\n",
    "            if \"Query\" in line:\n",
    "                i+=1\n",
    "                result_list.append([line]) \n",
    "                query_plan_list.append([])\n",
    "            if \"Analyse statement\" in line[:17]:\n",
    "                histogram_timing_results_list.append([line])\n",
    "            if \"select\" in line[:8]:\n",
    "                result_list[i].append(line)\n",
    "            if \"EXPLAIN\" in line[:7] or \"->\" in line or \"id\" in line[:4] or \"1\" in line[:2]:\n",
    "                query_plan_list[i].append(line)\n",
    "            if \"explain\" in line[:7]:\n",
    "                query_plan_list[i].append(\"\\n\")\n",
    "                query_plan_list[i].append(line)\n",
    "            if \"analyze table measurement\" in line.lower():\n",
    "                histogram_timing_results_list[i].append(line)\n",
    "    i = -1   #Cleanup\n"
   ]
  },
  {
   "cell_type": "code",
   "execution_count": 132,
   "metadata": {},
   "outputs": [],
   "source": [
    "#Export the timing results for queries\n",
    "array_result = np.array(result_list)\n",
    "result_list=[]      #Cleanup so that we can run the cells again and again without having to restart our kernel. \n",
    "counter = 0\n",
    "for result in array_result:\n",
    "    string=\"timing_results/{}.csv\".format(counter)\n",
    "    f = open(string,\"w+\")\n",
    "    for line in result:\n",
    "        f.write(line)\n",
    "    f.close()\n",
    "    counter+=1\n",
    "\n",
    "    \n",
    "#Export the timing results for histograms\n",
    "array_hist_result = np.array(histogram_timing_results_list)\n",
    "histogram_timing_results_list = []\n",
    "counter = 0\n",
    "for hist_result in array_hist_result:\n",
    "    string=\"hist_timing_results/{}.csv\".format(counter)\n",
    "    f = open(string,\"w+\")\n",
    "    for line in hist_result:\n",
    "        f.write(line)\n",
    "    f.close()\n",
    "    counter+=1"
   ]
  },
  {
   "cell_type": "markdown",
   "metadata": {},
   "source": [
    "# Now let's import the csv files into a dataframe. "
   ]
  },
  {
   "cell_type": "code",
   "execution_count": 133,
   "metadata": {},
   "outputs": [],
   "source": [
    "result_files = sorted(glob.glob(results_path),key=lambda x: int(x.split('.')[0][15:]))\n",
    "frames = []\n",
    "helper = []\n",
    "counter = 0\n",
    "for file in result_files:\n",
    "    temp_df = pa.read_csv(str(file),'\\t')\n",
    "    helper.append([temp_df.iloc[0]['Test type'],counter])\n",
    "    frames.append(temp_df)\n",
    "    counter+=1\n",
    "\n",
    "result_df = pa.concat(frames,sort=False)\n",
    "\n",
    "\n",
    "\n",
    "hist_result_files = sorted(glob.glob(timing_histogram_path),key=lambda x: int(x.split('.')[0][20:]))\n",
    "frames = []\n",
    "counter = 0\n",
    "for file in hist_result_files:\n",
    "    temp_df = pa.read_csv(str(file),'\\t')\n",
    " #   helper.append([temp_df.iloc[0]['Test type'],counter])\n",
    "    frames.append(temp_df)\n",
    "    counter+=1\n",
    "\n",
    "hist_result_df = pa.concat(frames,sort=False)\n",
    "hist_result_df=hist_result_df.astype({'No_of_executes': 'int32'})\n"
   ]
  },
  {
   "cell_type": "code",
   "execution_count": 134,
   "metadata": {},
   "outputs": [],
   "source": [
    "\n",
    "#Export the query_plans\n",
    "array_query_plan = np.array(query_plan_list)\n",
    "query_plan_list=[]\n",
    "counter = 0\n",
    "for plan_set in array_query_plan:\n",
    "    string=\"query_plans/plan_{}_{}.txt\".format(counter,helper[counter][0].strip())\n",
    "    f = open(string,\"w+\")\n",
    "    for plan in plan_set:\n",
    "        f.write(plan)\n",
    "    f.close()\n",
    "    counter+=1"
   ]
  },
  {
   "cell_type": "code",
   "execution_count": 135,
   "metadata": {},
   "outputs": [],
   "source": [
    "#Create the sensitivity DF\n",
    "sensitivity_df = result_df.groupby(['Test type','Supplied parameters']).sum().reset_index()\n",
    "sensitivity_df = sensitivity_df[['Test type','Supplied parameters','Duration']]\n",
    "sensitivity_df = sensitivity_df.rename(columns={\"Duration\": \"Query execution duration\"})\n",
    "sensitivity_df_hist_data = hist_result_df.groupby(['Test type','Supplied parameters']).sum().reset_index().rename(columns={\"Duration\": \"Histogram execution duration\"})\n",
    "temp = pa.merge(sensitivity_df,sensitivity_df_hist_data,how='outer',on=['Test type','Supplied parameters'])\n",
    "temp = temp.fillna(0)\n",
    "temp['Query and histogram execution duration'] = temp['Query execution duration'] + temp['Histogram execution duration']\n",
    "df_5 = temp\n",
    "temp = temp.drop(columns = ['Histogram execution duration'])\n",
    "temp = temp.set_index(['Test type','Supplied parameters'])\n",
    "sensitivity_df = pa.DataFrame(temp,index = temp.index).stack()\n",
    "#new_df = new_df.columns(['Test type'])\n",
    "sensitivity_df = sensitivity_df.to_frame()\n",
    "sensitivity_df =sensitivity_df.reset_index()\n",
    "sensitivity_df.columns = ['Test type','Supplied parameters','Duration type','Duration']\n",
    "\n",
    "#Splitting the params for the base classes test types\n",
    "temp_data_df = sensitivity_df.loc[sensitivity_df['Test type'].isin(['No histogram ','Perfect histogram ','Stale histogram '])]\n",
    "temp_data_df = temp_data_df[~temp_data_df['Duration type'].isin(['No_of_executes'])]\n",
    "base_classes_data = temp_data_df[temp_data_df['Duration type'].isin(['Query and histogram execution duration'])].groupby(['Test type']).mean().reset_index()\n",
    "base_classes_data['Duration type'] = 'Query and histogram execution duration'\n",
    "base_classes_data['Supplied parameters']= 'Not applicable'\n",
    "temp_data_df = temp_data_df.set_index(['Test type','Duration type','Duration'])\n",
    "temp_data_df = pa.DataFrame(temp_data_df['Supplied parameters'].str.split(' ').tolist(),index = temp_data_df.index).stack()\n",
    "temp_data_df = temp_data_df.to_frame()\n",
    "temp_data_df = temp_data_df.reset_index()\n",
    "temp_data_df = temp_data_df.drop(columns='level_3')\n",
    "temp_data_df.columns=['Test type','Duration type','Duration','Supplied parameters']\n",
    "sensitivity_df = sensitivity_df.loc[~sensitivity_df['Test type'].isin(['No histogram ','Perfect histogram ','Stale histogram '])]\n",
    "sensitivity_df = sensitivity_df.append(temp_data_df, ignore_index=True,sort=False)\n",
    "sensitivity_df = sensitivity_df.append(base_classes_data, ignore_index=True,sort=False)\n",
    "\n",
    "#Before we remove some rows, let's save this to another df\n",
    "full_sensitivity_df = sensitivity_df\n",
    "\n",
    "#Removing the query and histogram execution duration for the base classes since we don't want that to show up in our plots. \n",
    "temp_3 = sensitivity_df\n",
    "temp_3 = temp_3.loc[temp_3['Test type'].isin(['No histogram ','Perfect histogram ','Stale histogram ']) & temp_3['Duration type'].isin(['Query execution duration'])]\n",
    "temp_4 = pa.merge(sensitivity_df,temp_3, indicator=True, how='outer').query('_merge==\"left_only\"').drop('_merge', axis=1)\n",
    "sensitivity_df = temp_4"
   ]
  },
  {
   "cell_type": "code",
   "execution_count": 149,
   "metadata": {},
   "outputs": [
    {
     "data": {
      "text/html": [
       "<div>\n",
       "<style scoped>\n",
       "    .dataframe tbody tr th:only-of-type {\n",
       "        vertical-align: middle;\n",
       "    }\n",
       "\n",
       "    .dataframe tbody tr th {\n",
       "        vertical-align: top;\n",
       "    }\n",
       "\n",
       "    .dataframe thead th {\n",
       "        text-align: right;\n",
       "    }\n",
       "</style>\n",
       "<table border=\"1\" class=\"dataframe\">\n",
       "  <thead>\n",
       "    <tr style=\"text-align: right;\">\n",
       "      <th></th>\n",
       "      <th>Supplied parameters</th>\n",
       "      <th>Duration type</th>\n",
       "      <th>Duration</th>\n",
       "    </tr>\n",
       "    <tr>\n",
       "      <th>Test type</th>\n",
       "      <th></th>\n",
       "      <th></th>\n",
       "      <th></th>\n",
       "    </tr>\n",
       "  </thead>\n",
       "  <tbody>\n",
       "    <tr>\n",
       "      <td>Plugin rule 2</td>\n",
       "      <td>10000</td>\n",
       "      <td>Query execution duration</td>\n",
       "      <td>433.896868</td>\n",
       "    </tr>\n",
       "    <tr>\n",
       "      <td>Plugin rule 2</td>\n",
       "      <td>10000</td>\n",
       "      <td>No_of_executes</td>\n",
       "      <td>390.000000</td>\n",
       "    </tr>\n",
       "    <tr>\n",
       "      <td>Plugin rule 2</td>\n",
       "      <td>10000</td>\n",
       "      <td>Query and histogram execution duration</td>\n",
       "      <td>500.299323</td>\n",
       "    </tr>\n",
       "    <tr>\n",
       "      <td>Plugin rule 2</td>\n",
       "      <td>50000</td>\n",
       "      <td>Query execution duration</td>\n",
       "      <td>272.809195</td>\n",
       "    </tr>\n",
       "    <tr>\n",
       "      <td>Plugin rule 2</td>\n",
       "      <td>50000</td>\n",
       "      <td>No_of_executes</td>\n",
       "      <td>78.000000</td>\n",
       "    </tr>\n",
       "    <tr>\n",
       "      <td>Plugin rule 2</td>\n",
       "      <td>50000</td>\n",
       "      <td>Query and histogram execution duration</td>\n",
       "      <td>279.350319</td>\n",
       "    </tr>\n",
       "    <tr>\n",
       "      <td>Plugin rule 2</td>\n",
       "      <td>100000</td>\n",
       "      <td>Query execution duration</td>\n",
       "      <td>268.511827</td>\n",
       "    </tr>\n",
       "    <tr>\n",
       "      <td>Plugin rule 2</td>\n",
       "      <td>100000</td>\n",
       "      <td>No_of_executes</td>\n",
       "      <td>39.000000</td>\n",
       "    </tr>\n",
       "    <tr>\n",
       "      <td>Plugin rule 2</td>\n",
       "      <td>100000</td>\n",
       "      <td>Query and histogram execution duration</td>\n",
       "      <td>271.786368</td>\n",
       "    </tr>\n",
       "    <tr>\n",
       "      <td>Plugin rule 2</td>\n",
       "      <td>500000</td>\n",
       "      <td>Query execution duration</td>\n",
       "      <td>295.674587</td>\n",
       "    </tr>\n",
       "    <tr>\n",
       "      <td>Plugin rule 2</td>\n",
       "      <td>500000</td>\n",
       "      <td>No_of_executes</td>\n",
       "      <td>7.000000</td>\n",
       "    </tr>\n",
       "    <tr>\n",
       "      <td>Plugin rule 2</td>\n",
       "      <td>500000</td>\n",
       "      <td>Query and histogram execution duration</td>\n",
       "      <td>296.267628</td>\n",
       "    </tr>\n",
       "  </tbody>\n",
       "</table>\n",
       "</div>"
      ],
      "text/plain": [
       "              Supplied parameters                           Duration type  \\\n",
       "Test type                                                                   \n",
       "Plugin rule 2               10000                Query execution duration   \n",
       "Plugin rule 2               10000                          No_of_executes   \n",
       "Plugin rule 2               10000  Query and histogram execution duration   \n",
       "Plugin rule 2               50000                Query execution duration   \n",
       "Plugin rule 2               50000                          No_of_executes   \n",
       "Plugin rule 2               50000  Query and histogram execution duration   \n",
       "Plugin rule 2              100000                Query execution duration   \n",
       "Plugin rule 2              100000                          No_of_executes   \n",
       "Plugin rule 2              100000  Query and histogram execution duration   \n",
       "Plugin rule 2              500000                Query execution duration   \n",
       "Plugin rule 2              500000                          No_of_executes   \n",
       "Plugin rule 2              500000  Query and histogram execution duration   \n",
       "\n",
       "                 Duration  \n",
       "Test type                  \n",
       "Plugin rule 2  433.896868  \n",
       "Plugin rule 2  390.000000  \n",
       "Plugin rule 2  500.299323  \n",
       "Plugin rule 2  272.809195  \n",
       "Plugin rule 2   78.000000  \n",
       "Plugin rule 2  279.350319  \n",
       "Plugin rule 2  268.511827  \n",
       "Plugin rule 2   39.000000  \n",
       "Plugin rule 2  271.786368  \n",
       "Plugin rule 2  295.674587  \n",
       "Plugin rule 2    7.000000  \n",
       "Plugin rule 2  296.267628  "
      ]
     },
     "execution_count": 149,
     "metadata": {},
     "output_type": "execute_result"
    }
   ],
   "source": [
    "sensitivity_df.set_index('Test type').loc[['Plugin rule 2']]"
   ]
  },
  {
   "cell_type": "markdown",
   "metadata": {},
   "source": [
    "# Format the queries to be q1 q2 etc. add a result_ratio column and a formatted query column"
   ]
  },
  {
   "cell_type": "code",
   "execution_count": 137,
   "metadata": {},
   "outputs": [],
   "source": [
    "i=1\n",
    "replace_dictionary = {}\n",
    "unique_queries = result_df.Query.unique().tolist()\n",
    "for query in unique_queries:\n",
    "    name = 'q{}'.format(i)\n",
    "    replace_dictionary[query]=name\n",
    "    i+=1\n",
    "\n",
    "result_df['Short_Query']=result_df['Query'].replace(replace_dictionary)\n",
    "\n",
    "partition_size = min(result_df[\"Number of Inserts\"].unique().tolist())\n",
    "result_df['Result_ratio']=result_df['Returned rows']/partition_size\n",
    "\n",
    "queries = result_df['Query'].tolist()\n",
    "short_query_format=[]\n",
    "for query in queries:\n",
    "    no_of_joins = query.count('join')\n",
    "    where_predicate_value = query.split(\"test.measurement.msm_value\",1)[1]\n",
    "    short_query_format.append('Query with '+str(no_of_joins)+' joins and WHERE MSM_VALUE' +where_predicate_value)\n",
    "result_df['Short_query_format']=short_query_format\n",
    "\n",
    "\n"
   ]
  },
  {
   "cell_type": "code",
   "execution_count": 138,
   "metadata": {},
   "outputs": [],
   "source": [
    "unformatted_plan_files = glob.glob(plans_path)\n",
    "for file in unformatted_plan_files:\n",
    "    output_file_name=file+\".tmp\"\n",
    "    with open(file, 'r') as f, open(output_file_name, 'w+') as fo:\n",
    "        for line in f:\n",
    "            formatted_line = line.replace('explain format = tree ', '').replace(\";\",\"\") \n",
    "           # print(formatted_line) \n",
    "            for query,key in replace_dictionary.items():\n",
    "                if query==formatted_line:\n",
    "                    fo.write(key)\n",
    "                    break\n",
    "            fo.write(line)\n",
    "    os.remove(file)"
   ]
  },
  {
   "cell_type": "markdown",
   "metadata": {},
   "source": [
    "## Prelim-results, don't run unless running prelim tests"
   ]
  },
  {
   "cell_type": "code",
   "execution_count": null,
   "metadata": {},
   "outputs": [],
   "source": [
    "#ax=sns.lineplot(x=\"Number of Inserts\", y=\"Duration\",\n",
    "#            hue=\"Test type\", markers=True,\n",
    "#            data=result_df[result_df.Short_Query.isin(['q2'])])\n",
    "#q2_prelim_line_plot = plt.gcf()\n",
    "#q2_prelim_line_plot.savefig(\"/export/home/tmp/Dropbox/Apper/ShareLaTeX/Master/plots/prelim/q2_prelim_line_plot.png\",dpi=360)\n",
    "#plt.show()"
   ]
  },
  {
   "cell_type": "markdown",
   "metadata": {},
   "source": [
    "## Standard results"
   ]
  },
  {
   "cell_type": "code",
   "execution_count": 27,
   "metadata": {},
   "outputs": [
    {
     "name": "stderr",
     "output_type": "stream",
     "text": [
      "/home/svestrhe/.local/lib/python3.7/site-packages/ipykernel_launcher.py:9: RuntimeWarning: More than 20 figures have been opened. Figures created through the pyplot interface (`matplotlib.pyplot.figure`) are retained until explicitly closed and may consume too much memory. (To control this warning, see the rcParam `figure.max_open_warning`).\n",
      "  if __name__ == '__main__':\n",
      "/home/svestrhe/.local/lib/python3.7/site-packages/ipykernel_launcher.py:102: RuntimeWarning: More than 20 figures have been opened. Figures created through the pyplot interface (`matplotlib.pyplot.figure`) are retained until explicitly closed and may consume too much memory. (To control this warning, see the rcParam `figure.max_open_warning`).\n"
     ]
    },
    {
     "data": {
      "text/plain": [
       "<Figure size 936x648 with 0 Axes>"
      ]
     },
     "metadata": {},
     "output_type": "display_data"
    },
    {
     "data": {
      "text/plain": [
       "<Figure size 936x648 with 0 Axes>"
      ]
     },
     "metadata": {},
     "output_type": "display_data"
    },
    {
     "data": {
      "text/plain": [
       "<Figure size 936x648 with 0 Axes>"
      ]
     },
     "metadata": {},
     "output_type": "display_data"
    },
    {
     "data": {
      "text/plain": [
       "<Figure size 936x648 with 0 Axes>"
      ]
     },
     "metadata": {},
     "output_type": "display_data"
    },
    {
     "data": {
      "text/plain": [
       "<Figure size 936x648 with 0 Axes>"
      ]
     },
     "metadata": {},
     "output_type": "display_data"
    },
    {
     "data": {
      "text/plain": [
       "<Figure size 936x648 with 0 Axes>"
      ]
     },
     "metadata": {},
     "output_type": "display_data"
    },
    {
     "data": {
      "text/plain": [
       "<Figure size 936x648 with 0 Axes>"
      ]
     },
     "metadata": {},
     "output_type": "display_data"
    },
    {
     "data": {
      "text/plain": [
       "<Figure size 936x648 with 0 Axes>"
      ]
     },
     "metadata": {},
     "output_type": "display_data"
    },
    {
     "data": {
      "text/plain": [
       "<Figure size 936x648 with 0 Axes>"
      ]
     },
     "metadata": {},
     "output_type": "display_data"
    },
    {
     "data": {
      "text/plain": [
       "<Figure size 936x648 with 0 Axes>"
      ]
     },
     "metadata": {},
     "output_type": "display_data"
    },
    {
     "data": {
      "text/plain": [
       "<Figure size 936x648 with 0 Axes>"
      ]
     },
     "metadata": {},
     "output_type": "display_data"
    },
    {
     "data": {
      "text/plain": [
       "<Figure size 936x648 with 0 Axes>"
      ]
     },
     "metadata": {},
     "output_type": "display_data"
    },
    {
     "data": {
      "text/plain": [
       "<Figure size 936x648 with 0 Axes>"
      ]
     },
     "metadata": {},
     "output_type": "display_data"
    },
    {
     "data": {
      "text/plain": [
       "<Figure size 936x648 with 0 Axes>"
      ]
     },
     "metadata": {},
     "output_type": "display_data"
    },
    {
     "data": {
      "text/plain": [
       "<Figure size 936x648 with 0 Axes>"
      ]
     },
     "metadata": {},
     "output_type": "display_data"
    },
    {
     "data": {
      "text/plain": [
       "<Figure size 936x648 with 0 Axes>"
      ]
     },
     "metadata": {},
     "output_type": "display_data"
    },
    {
     "data": {
      "text/plain": [
       "<Figure size 936x648 with 0 Axes>"
      ]
     },
     "metadata": {},
     "output_type": "display_data"
    },
    {
     "data": {
      "text/plain": [
       "<Figure size 936x648 with 0 Axes>"
      ]
     },
     "metadata": {},
     "output_type": "display_data"
    },
    {
     "data": {
      "text/plain": [
       "<Figure size 936x648 with 0 Axes>"
      ]
     },
     "metadata": {},
     "output_type": "display_data"
    },
    {
     "data": {
      "text/plain": [
       "<Figure size 936x648 with 0 Axes>"
      ]
     },
     "metadata": {},
     "output_type": "display_data"
    },
    {
     "data": {
      "text/plain": [
       "<Figure size 936x648 with 0 Axes>"
      ]
     },
     "metadata": {},
     "output_type": "display_data"
    },
    {
     "data": {
      "text/plain": [
       "<Figure size 936x648 with 0 Axes>"
      ]
     },
     "metadata": {},
     "output_type": "display_data"
    },
    {
     "data": {
      "text/plain": [
       "<Figure size 936x648 with 0 Axes>"
      ]
     },
     "metadata": {},
     "output_type": "display_data"
    },
    {
     "data": {
      "text/plain": [
       "<Figure size 936x648 with 0 Axes>"
      ]
     },
     "metadata": {},
     "output_type": "display_data"
    },
    {
     "data": {
      "text/plain": [
       "<Figure size 936x648 with 0 Axes>"
      ]
     },
     "metadata": {},
     "output_type": "display_data"
    },
    {
     "data": {
      "text/plain": [
       "<Figure size 936x648 with 0 Axes>"
      ]
     },
     "metadata": {},
     "output_type": "display_data"
    },
    {
     "data": {
      "text/plain": [
       "<Figure size 936x648 with 0 Axes>"
      ]
     },
     "metadata": {},
     "output_type": "display_data"
    },
    {
     "data": {
      "text/plain": [
       "<Figure size 936x648 with 0 Axes>"
      ]
     },
     "metadata": {},
     "output_type": "display_data"
    },
    {
     "data": {
      "text/plain": [
       "<Figure size 936x648 with 0 Axes>"
      ]
     },
     "metadata": {},
     "output_type": "display_data"
    },
    {
     "data": {
      "text/plain": [
       "<Figure size 936x648 with 0 Axes>"
      ]
     },
     "metadata": {},
     "output_type": "display_data"
    },
    {
     "data": {
      "text/plain": [
       "<Figure size 936x648 with 0 Axes>"
      ]
     },
     "metadata": {},
     "output_type": "display_data"
    },
    {
     "data": {
      "text/plain": [
       "<Figure size 936x648 with 0 Axes>"
      ]
     },
     "metadata": {},
     "output_type": "display_data"
    },
    {
     "data": {
      "text/plain": [
       "<Figure size 936x648 with 0 Axes>"
      ]
     },
     "metadata": {},
     "output_type": "display_data"
    },
    {
     "data": {
      "text/plain": [
       "<Figure size 936x648 with 0 Axes>"
      ]
     },
     "metadata": {},
     "output_type": "display_data"
    },
    {
     "data": {
      "text/plain": [
       "<Figure size 936x648 with 0 Axes>"
      ]
     },
     "metadata": {},
     "output_type": "display_data"
    },
    {
     "data": {
      "text/plain": [
       "<Figure size 936x648 with 0 Axes>"
      ]
     },
     "metadata": {},
     "output_type": "display_data"
    },
    {
     "data": {
      "text/plain": [
       "<Figure size 936x648 with 0 Axes>"
      ]
     },
     "metadata": {},
     "output_type": "display_data"
    },
    {
     "data": {
      "text/plain": [
       "<Figure size 936x648 with 0 Axes>"
      ]
     },
     "metadata": {},
     "output_type": "display_data"
    },
    {
     "data": {
      "text/plain": [
       "<Figure size 936x648 with 0 Axes>"
      ]
     },
     "metadata": {},
     "output_type": "display_data"
    },
    {
     "data": {
      "text/plain": [
       "<Figure size 936x648 with 0 Axes>"
      ]
     },
     "metadata": {},
     "output_type": "display_data"
    },
    {
     "data": {
      "text/plain": [
       "<Figure size 936x648 with 0 Axes>"
      ]
     },
     "metadata": {},
     "output_type": "display_data"
    },
    {
     "data": {
      "text/plain": [
       "<Figure size 936x648 with 0 Axes>"
      ]
     },
     "metadata": {},
     "output_type": "display_data"
    },
    {
     "data": {
      "text/plain": [
       "<Figure size 936x648 with 0 Axes>"
      ]
     },
     "metadata": {},
     "output_type": "display_data"
    },
    {
     "data": {
      "text/plain": [
       "<Figure size 936x648 with 0 Axes>"
      ]
     },
     "metadata": {},
     "output_type": "display_data"
    },
    {
     "data": {
      "text/plain": [
       "<Figure size 936x648 with 0 Axes>"
      ]
     },
     "metadata": {},
     "output_type": "display_data"
    },
    {
     "data": {
      "text/plain": [
       "<Figure size 936x648 with 0 Axes>"
      ]
     },
     "metadata": {},
     "output_type": "display_data"
    },
    {
     "data": {
      "text/plain": [
       "<Figure size 936x648 with 0 Axes>"
      ]
     },
     "metadata": {},
     "output_type": "display_data"
    },
    {
     "data": {
      "text/plain": [
       "<Figure size 936x648 with 0 Axes>"
      ]
     },
     "metadata": {},
     "output_type": "display_data"
    },
    {
     "data": {
      "text/plain": [
       "<Figure size 936x648 with 0 Axes>"
      ]
     },
     "metadata": {},
     "output_type": "display_data"
    },
    {
     "data": {
      "text/plain": [
       "<Figure size 936x648 with 0 Axes>"
      ]
     },
     "metadata": {},
     "output_type": "display_data"
    },
    {
     "data": {
      "text/plain": [
       "<Figure size 936x648 with 0 Axes>"
      ]
     },
     "metadata": {},
     "output_type": "display_data"
    },
    {
     "data": {
      "text/plain": [
       "<Figure size 936x648 with 0 Axes>"
      ]
     },
     "metadata": {},
     "output_type": "display_data"
    },
    {
     "data": {
      "text/plain": [
       "<Figure size 936x648 with 0 Axes>"
      ]
     },
     "metadata": {},
     "output_type": "display_data"
    },
    {
     "data": {
      "text/plain": [
       "<Figure size 936x648 with 0 Axes>"
      ]
     },
     "metadata": {},
     "output_type": "display_data"
    },
    {
     "data": {
      "text/plain": [
       "<Figure size 936x648 with 0 Axes>"
      ]
     },
     "metadata": {},
     "output_type": "display_data"
    },
    {
     "data": {
      "text/plain": [
       "<Figure size 936x648 with 0 Axes>"
      ]
     },
     "metadata": {},
     "output_type": "display_data"
    },
    {
     "data": {
      "text/plain": [
       "<Figure size 936x648 with 0 Axes>"
      ]
     },
     "metadata": {},
     "output_type": "display_data"
    },
    {
     "data": {
      "text/plain": [
       "<Figure size 936x648 with 0 Axes>"
      ]
     },
     "metadata": {},
     "output_type": "display_data"
    },
    {
     "data": {
      "text/plain": [
       "<Figure size 936x648 with 0 Axes>"
      ]
     },
     "metadata": {},
     "output_type": "display_data"
    },
    {
     "data": {
      "text/plain": [
       "<Figure size 936x648 with 0 Axes>"
      ]
     },
     "metadata": {},
     "output_type": "display_data"
    },
    {
     "data": {
      "text/plain": [
       "<Figure size 936x648 with 0 Axes>"
      ]
     },
     "metadata": {},
     "output_type": "display_data"
    },
    {
     "data": {
      "text/plain": [
       "<Figure size 936x648 with 0 Axes>"
      ]
     },
     "metadata": {},
     "output_type": "display_data"
    },
    {
     "data": {
      "text/plain": [
       "<Figure size 936x648 with 0 Axes>"
      ]
     },
     "metadata": {},
     "output_type": "display_data"
    },
    {
     "data": {
      "text/plain": [
       "<Figure size 936x648 with 0 Axes>"
      ]
     },
     "metadata": {},
     "output_type": "display_data"
    },
    {
     "data": {
      "text/plain": [
       "<Figure size 936x648 with 0 Axes>"
      ]
     },
     "metadata": {},
     "output_type": "display_data"
    },
    {
     "data": {
      "text/plain": [
       "<Figure size 936x648 with 0 Axes>"
      ]
     },
     "metadata": {},
     "output_type": "display_data"
    },
    {
     "data": {
      "text/plain": [
       "<Figure size 936x648 with 0 Axes>"
      ]
     },
     "metadata": {},
     "output_type": "display_data"
    },
    {
     "data": {
      "text/plain": [
       "<Figure size 936x648 with 0 Axes>"
      ]
     },
     "metadata": {},
     "output_type": "display_data"
    },
    {
     "data": {
      "text/plain": [
       "<Figure size 936x648 with 0 Axes>"
      ]
     },
     "metadata": {},
     "output_type": "display_data"
    },
    {
     "data": {
      "text/plain": [
       "<Figure size 936x648 with 0 Axes>"
      ]
     },
     "metadata": {},
     "output_type": "display_data"
    },
    {
     "data": {
      "text/plain": [
       "<Figure size 936x648 with 0 Axes>"
      ]
     },
     "metadata": {},
     "output_type": "display_data"
    },
    {
     "data": {
      "text/plain": [
       "<Figure size 936x648 with 0 Axes>"
      ]
     },
     "metadata": {},
     "output_type": "display_data"
    },
    {
     "data": {
      "text/plain": [
       "<Figure size 936x648 with 0 Axes>"
      ]
     },
     "metadata": {},
     "output_type": "display_data"
    },
    {
     "data": {
      "text/plain": [
       "<Figure size 936x648 with 0 Axes>"
      ]
     },
     "metadata": {},
     "output_type": "display_data"
    },
    {
     "data": {
      "text/plain": [
       "<Figure size 936x648 with 0 Axes>"
      ]
     },
     "metadata": {},
     "output_type": "display_data"
    },
    {
     "data": {
      "text/plain": [
       "<Figure size 936x648 with 0 Axes>"
      ]
     },
     "metadata": {},
     "output_type": "display_data"
    },
    {
     "data": {
      "text/plain": [
       "<Figure size 936x648 with 0 Axes>"
      ]
     },
     "metadata": {},
     "output_type": "display_data"
    },
    {
     "data": {
      "text/plain": [
       "<Figure size 936x648 with 0 Axes>"
      ]
     },
     "metadata": {},
     "output_type": "display_data"
    },
    {
     "data": {
      "text/plain": [
       "<Figure size 936x648 with 0 Axes>"
      ]
     },
     "metadata": {},
     "output_type": "display_data"
    },
    {
     "data": {
      "text/plain": [
       "<Figure size 936x648 with 0 Axes>"
      ]
     },
     "metadata": {},
     "output_type": "display_data"
    },
    {
     "data": {
      "text/plain": [
       "<Figure size 936x648 with 0 Axes>"
      ]
     },
     "metadata": {},
     "output_type": "display_data"
    },
    {
     "data": {
      "text/plain": [
       "<Figure size 936x648 with 0 Axes>"
      ]
     },
     "metadata": {},
     "output_type": "display_data"
    },
    {
     "data": {
      "text/plain": [
       "<Figure size 936x648 with 0 Axes>"
      ]
     },
     "metadata": {},
     "output_type": "display_data"
    },
    {
     "data": {
      "text/plain": [
       "<Figure size 936x648 with 0 Axes>"
      ]
     },
     "metadata": {},
     "output_type": "display_data"
    },
    {
     "data": {
      "image/png": "[encoded data removed]",
      "text/plain": [
       "<Figure size 648x432 with 1 Axes>"
      ]
     },
     "metadata": {},
     "output_type": "display_data"
    }
   ],
   "source": [
    "base_rules = ['No histogram ','Perfect histogram ','Stale histogram ']\n",
    "for rule in result_df['Test type'].unique().tolist():\n",
    "    if rule not in base_rules:\n",
    "        base_rules.append(rule)\n",
    "        temp = result_df.set_index('Test type')\n",
    "        temp = temp.loc[base_rules]\n",
    "        temp = temp.reset_index()\n",
    "        for query in temp.Short_Query.unique().tolist():\n",
    "            fig = plt.figure(figsize=(13,9))\n",
    "            gs = gridspec.GridSpec(nrows=4, \n",
    "                                   ncols=1, \n",
    "                                   figure=fig, \n",
    "                                   height_ratios=[1, 1, 1, 1],\n",
    "                                   wspace=0.3,\n",
    "                                   hspace=0.3)\n",
    "\n",
    "            ax1 = fig.add_subplot(gs[1:3,0])\n",
    "            sns.lineplot(x=\"Number of Inserts\", y=\"Duration\",\n",
    "                         hue=\"Test type\", style=\"Test type\",markers = True,dashes = True,\n",
    "                         data=temp[temp.Short_Query.isin([query])],ax=ax1)\n",
    "            xlabels = ['{:,.0f}'.format(x) + 'K' for x in ax1.get_xticks()/1000]\n",
    "            ax1.set_xticklabels(xlabels)\n",
    "            ax1.set_xlabel(\"Number of updates\")\n",
    "            ax1.set_ylabel(\"Duration (s)\")\n",
    "           # ax1.set_title(str(result_df['Short_query_format'][result_df.Short_Query.isin([query])].iloc[0]))\n",
    "\n",
    "            ax2 = fig.add_subplot(gs[0, 0])\n",
    "\n",
    "            all_hist = result_df[result_df[\"Test type\"].str.contains('Perfect histogram')]\n",
    "            index_position = all_hist[all_hist.Short_Query.isin([query])].index[0]\n",
    "            final = all_hist[all_hist.Short_Query.isin([query])].loc[index_position]\n",
    "            sns.barplot(x=\"Number of Inserts\", y=\"Result_ratio\",data=final ,ax=ax2, color=sns.xkcd_rgb[\"denim blue\"])\n",
    "\n",
    "\n",
    "            ax2.spines['right'].set_visible(False)\n",
    "            ax2.spines['top'].set_visible(False)\n",
    "            #ax2.xaxis.set_major_locator(ax1.xaxis.get_major_locator())\n",
    "            #ax2.set_xticklabels(ax1.get_xticklabels())\n",
    "            ax2.set_xticklabels(\"\")\n",
    "            ax2.margins(x=ax1.margins()[0]-0.01)\n",
    "            ax2.set_xlabel(\"\")\n",
    "            ax2.set_ylabel(\"Result size ratio\")\n",
    "          #  ax2.set_title(str(result_df['Short_query_format'][result_df.Short_Query.isin([query])].iloc[0]))\n",
    "\n",
    "            #fig.suptitle(str(result_df['Short_query_format'][result_df.Short_Query.isin([query])].iloc[0]),y=0.9)\n",
    "\n",
    "            line_plot = plt.gcf()\n",
    "            path = \"/export/home/tmp/Dropbox/Apper/ShareLaTeX/Master/eval_plots/line_plots/all_q_plots/\"\n",
    "            name = str(temp['Short_query_format'][temp.Short_Query.isin([query])].iloc[0])+str(base_rules)+\".png\"\n",
    "            line_plot.savefig(path+name,dpi=360,bbox_inches='tight')\n",
    "            plt.clf()\n",
    "        base_rules.pop()\n",
    "    if rule == 'No histogram ':\n",
    "        temp = result_df.set_index('Test type')\n",
    "        temp = temp.loc[base_rules]\n",
    "        temp = temp.reset_index()\n",
    "        for query in temp.Short_Query.unique().tolist():\n",
    "            fig = plt.figure(figsize=(13,9))\n",
    "            gs = gridspec.GridSpec(nrows=4, \n",
    "                                   ncols=1, \n",
    "                                   figure=fig, \n",
    "                                   height_ratios=[1, 1, 1, 1],\n",
    "                                   wspace=0.3,\n",
    "                                   hspace=0.3)\n",
    "\n",
    "            ax1 = fig.add_subplot(gs[1:3,0])\n",
    "            sns.lineplot(x=\"Number of Inserts\", y=\"Duration\",\n",
    "                         hue=\"Test type\", style=\"Test type\",markers = True,dashes = True,\n",
    "                         data=temp[temp.Short_Query.isin([query])],ax=ax1)\n",
    "            xlabels = ['{:,.0f}'.format(x) + 'K' for x in ax1.get_xticks()/1000]\n",
    "            ax1.set_xticklabels(xlabels)\n",
    "            ax1.set_xlabel(\"Number of updates\")\n",
    "            ax1.set_ylabel(\"Duration (s)\")\n",
    "           # ax1.set_title(str(result_df['Short_query_format'][result_df.Short_Query.isin([query])].iloc[0]))\n",
    "\n",
    "            ax2 = fig.add_subplot(gs[0, 0])\n",
    "\n",
    "            all_hist = result_df[result_df[\"Test type\"].str.contains('Perfect histogram')]\n",
    "            index_position = all_hist[all_hist.Short_Query.isin([query])].index[0]\n",
    "            final = all_hist[all_hist.Short_Query.isin([query])].loc[index_position]\n",
    "            sns.barplot(x=\"Number of Inserts\", y=\"Result_ratio\",data=final ,ax=ax2, color=sns.xkcd_rgb[\"denim blue\"])\n",
    "\n",
    "\n",
    "            ax2.spines['right'].set_visible(False)\n",
    "            ax2.spines['top'].set_visible(False)\n",
    "            #ax2.xaxis.set_major_locator(ax1.xaxis.get_major_locator())\n",
    "            #ax2.set_xticklabels(ax1.get_xticklabels())\n",
    "            ax2.set_xticklabels(\"\")\n",
    "            ax2.margins(x=ax1.margins()[0]-0.01)\n",
    "            ax2.set_xlabel(\"\")\n",
    "            ax2.set_ylabel(\"Result size ratio\")\n",
    "          #  ax2.set_title(str(result_df['Short_query_format'][result_df.Short_Query.isin([query])].iloc[0]))\n",
    "\n",
    "            #fig.suptitle(str(result_df['Short_query_format'][result_df.Short_Query.isin([query])].iloc[0]),y=0.9)\n",
    "\n",
    "            line_plot = plt.gcf()\n",
    "            path = \"/export/home/tmp/Dropbox/Apper/ShareLaTeX/Master/eval_plots/lin~e_plots/all_q_plots/\"\n",
    "            name = str(temp['Short_query_format'][temp.Short_Query.isin([query])].iloc[0])+str(base_rules)+\".png\"\n",
    "            line_plot.savefig(path+name,dpi=360,bbox_inches='tight')\n",
    "            plt.clf()\n",
    "    \n",
    "fig = plt.figure(figsize=(9,6))\n",
    "ax3=sns.barplot(x=\"Test type\", y=\"Duration\",hue=\"Test type\", data=hist_result_df, estimator=sum,ci=None,dodge = False,palette = sns.color_palette(\"Paired\", 9))\n",
    "ax3.set_xticklabels(\"\")\n",
    "ax3.set_xlabel(\"\")\n",
    "ax3.set_ylabel(\"Duration (s)\")\n",
    "hist_timing_plt = plt.gcf()\n",
    "hist_timing_plt.savefig(\"/export/home/tmp/Dropbox/Apper/ShareLaTeX/Master/eval_plots/histogram_timing.png\",dpi=360,bbox_inches='tight')"
   ]
  },
  {
   "cell_type": "markdown",
   "metadata": {},
   "source": [
    "# One off plots#"
   ]
  },
  {
   "cell_type": "code",
   "execution_count": null,
   "metadata": {},
   "outputs": [],
   "source": [
    "query = 'q4'\n",
    "rules = ['No histogram ','Perfect histogram ','Stale histogram ']\n",
    "fig = plt.figure(figsize=(13,9))\n",
    "gs = gridspec.GridSpec(nrows=4, \n",
    "                       ncols=1, \n",
    "                       figure=fig, \n",
    "                       height_ratios=[1, 1, 1, 1],\n",
    "                       wspace=0.3,\n",
    "                       hspace=0.3)\n",
    "\n",
    "ax1 = fig.add_subplot(gs[1:3,0])\n",
    "sns.lineplot(x=\"Number of Inserts\", y=\"Duration\",\n",
    "             hue=\"Test type\", style=\"Test type\", markers=True,ci=99,\n",
    "             data=result_df[result_df.Short_Query.isin([query])& result_df['Test type'].isin(rules)],ax=ax1)\n",
    "xlabels = ['{:,.0f}'.format(x) + 'K' for x in ax1.get_xticks()/1000]\n",
    "ax1.set_xticklabels(xlabels)\n",
    "ax1.set_xlabel(\"Number of updates\")\n",
    "ax1.set_ylabel(\"Duration (s)\")\n",
    "# ax1.set_title(str(result_df['Short_query_format'][result_df.Short_Query.isin([query])].iloc[0]))\n",
    "\n",
    "ax2 = fig.add_subplot(gs[0, 0])\n",
    "\n",
    "all_hist = result_df[result_df[\"Test type\"].str.contains('Perfect histogram')]\n",
    "index_position = all_hist[all_hist.Short_Query.isin([query])].index[0]\n",
    "final = all_hist[all_hist.Short_Query.isin([query])].loc[index_position]\n",
    "sns.barplot(x=\"Number of Inserts\", y=\"Result_ratio\",data=final ,ax=ax2, color=sns.xkcd_rgb[\"denim blue\"])\n",
    "\n",
    "\n",
    "ax2.spines['right'].set_visible(False)\n",
    "ax2.spines['top'].set_visible(False)\n",
    "#ax2.xaxis.set_major_locator(ax1.xaxis.get_major_locator())\n",
    "#ax2.set_xticklabels(ax1.get_xticklabels())\n",
    "ax2.set_xticklabels(\"\")\n",
    "ax2.margins(x=ax1.margins()[0]-0.01)\n",
    "ax2.set_xlabel(\"\")\n",
    "ax2.set_ylabel(\"Result size ratio\")\n",
    "#  ax2.set_title(str(result_df['Short_query_format'][result_df.Short_Query.isin([query])].iloc[0]))\n",
    "\n",
    "#fig.suptitle(str(result_df['Short_query_format'][result_df.Short_Query.isin([query])].iloc[0]),y=0.9)\n",
    "\n",
    "line_plot = plt.gcf()\n",
    "\n",
    "path = \"/export/home/tmp/Dropbox/Apper/ShareLaTeX/Master/eval_plots/line_plots/\"\n",
    "name = str(result_df['Short_query_format'][result_df.Short_Query.isin([query])].iloc[0])+str(rules)+\".png\"\n",
    "line_plot.savefig(path+name,dpi=360,bbox_inches='tight')\n",
    "plt.clf()"
   ]
  },
  {
   "cell_type": "markdown",
   "metadata": {},
   "source": [
    "# Generate Q-ratio data#"
   ]
  },
  {
   "cell_type": "code",
   "execution_count": 139,
   "metadata": {},
   "outputs": [
    {
     "data": {
      "text/html": [
       "<div>\n",
       "<style scoped>\n",
       "    .dataframe tbody tr th:only-of-type {\n",
       "        vertical-align: middle;\n",
       "    }\n",
       "\n",
       "    .dataframe tbody tr th {\n",
       "        vertical-align: top;\n",
       "    }\n",
       "\n",
       "    .dataframe thead th {\n",
       "        text-align: right;\n",
       "    }\n",
       "</style>\n",
       "<table border=\"1\" class=\"dataframe\">\n",
       "  <thead>\n",
       "    <tr style=\"text-align: right;\">\n",
       "      <th></th>\n",
       "      <th>Test type</th>\n",
       "      <th>Query execution duration</th>\n",
       "      <th>Histogram execution duration</th>\n",
       "      <th>Number of histogram udpates/creates</th>\n",
       "      <th>Total duration</th>\n",
       "      <th>Supplied parameters</th>\n",
       "      <th>Q-ratio</th>\n",
       "    </tr>\n",
       "  </thead>\n",
       "  <tbody>\n",
       "    <tr>\n",
       "      <td>16</td>\n",
       "      <td>Plugin rule 6</td>\n",
       "      <td>267.094430</td>\n",
       "      <td>3.307501</td>\n",
       "      <td>55.0</td>\n",
       "      <td>270.401931</td>\n",
       "      <td>0.1</td>\n",
       "      <td>0.982155</td>\n",
       "    </tr>\n",
       "    <tr>\n",
       "      <td>9</td>\n",
       "      <td>Plugin rule 2</td>\n",
       "      <td>268.511827</td>\n",
       "      <td>3.274541</td>\n",
       "      <td>39.0</td>\n",
       "      <td>271.786368</td>\n",
       "      <td>100000</td>\n",
       "      <td>0.987183</td>\n",
       "    </tr>\n",
       "    <tr>\n",
       "      <td>14</td>\n",
       "      <td>Plugin rule 3</td>\n",
       "      <td>268.953461</td>\n",
       "      <td>3.280519</td>\n",
       "      <td>39.0</td>\n",
       "      <td>272.233980</td>\n",
       "      <td>500000</td>\n",
       "      <td>0.988809</td>\n",
       "    </tr>\n",
       "    <tr>\n",
       "      <td>18</td>\n",
       "      <td>Plugin rule 6</td>\n",
       "      <td>270.260807</td>\n",
       "      <td>3.306000</td>\n",
       "      <td>55.0</td>\n",
       "      <td>273.566807</td>\n",
       "      <td>0.9</td>\n",
       "      <td>0.993650</td>\n",
       "    </tr>\n",
       "    <tr>\n",
       "      <td>26</td>\n",
       "      <td>Plugin rule 9</td>\n",
       "      <td>272.323269</td>\n",
       "      <td>1.595539</td>\n",
       "      <td>19.0</td>\n",
       "      <td>273.918808</td>\n",
       "      <td>0.90 0.2 500000</td>\n",
       "      <td>0.994929</td>\n",
       "    </tr>\n",
       "    <tr>\n",
       "      <td>17</td>\n",
       "      <td>Plugin rule 6</td>\n",
       "      <td>271.513497</td>\n",
       "      <td>3.312466</td>\n",
       "      <td>55.0</td>\n",
       "      <td>274.825963</td>\n",
       "      <td>0.5</td>\n",
       "      <td>0.998224</td>\n",
       "    </tr>\n",
       "    <tr>\n",
       "      <td>1</td>\n",
       "      <td>Perfect histogram</td>\n",
       "      <td>273.589126</td>\n",
       "      <td>1.725912</td>\n",
       "      <td>20.0</td>\n",
       "      <td>275.315038</td>\n",
       "      <td>Not applicable</td>\n",
       "      <td>1.000000</td>\n",
       "    </tr>\n",
       "    <tr>\n",
       "      <td>8</td>\n",
       "      <td>Plugin rule 2</td>\n",
       "      <td>272.809195</td>\n",
       "      <td>6.541124</td>\n",
       "      <td>78.0</td>\n",
       "      <td>279.350319</td>\n",
       "      <td>50000</td>\n",
       "      <td>1.014657</td>\n",
       "    </tr>\n",
       "    <tr>\n",
       "      <td>25</td>\n",
       "      <td>Plugin rule 9</td>\n",
       "      <td>268.891475</td>\n",
       "      <td>11.199573</td>\n",
       "      <td>134.0</td>\n",
       "      <td>280.091048</td>\n",
       "      <td>0.5 2 100000</td>\n",
       "      <td>1.017347</td>\n",
       "    </tr>\n",
       "    <tr>\n",
       "      <td>15</td>\n",
       "      <td>Plugin rule 6</td>\n",
       "      <td>280.163513</td>\n",
       "      <td>3.480615</td>\n",
       "      <td>55.0</td>\n",
       "      <td>283.644128</td>\n",
       "      <td>0.05</td>\n",
       "      <td>1.030253</td>\n",
       "    </tr>\n",
       "    <tr>\n",
       "      <td>13</td>\n",
       "      <td>Plugin rule 3</td>\n",
       "      <td>270.099175</td>\n",
       "      <td>16.147034</td>\n",
       "      <td>195.0</td>\n",
       "      <td>286.246209</td>\n",
       "      <td>100000</td>\n",
       "      <td>1.039704</td>\n",
       "    </tr>\n",
       "    <tr>\n",
       "      <td>10</td>\n",
       "      <td>Plugin rule 2</td>\n",
       "      <td>295.674587</td>\n",
       "      <td>0.593041</td>\n",
       "      <td>7.0</td>\n",
       "      <td>296.267628</td>\n",
       "      <td>500000</td>\n",
       "      <td>1.076104</td>\n",
       "    </tr>\n",
       "    <tr>\n",
       "      <td>4</td>\n",
       "      <td>Plugin rule 0</td>\n",
       "      <td>297.061350</td>\n",
       "      <td>0.000000</td>\n",
       "      <td>0.0</td>\n",
       "      <td>297.061350</td>\n",
       "      <td>100000 0.5</td>\n",
       "      <td>1.078987</td>\n",
       "    </tr>\n",
       "    <tr>\n",
       "      <td>5</td>\n",
       "      <td>Plugin rule 0</td>\n",
       "      <td>297.802500</td>\n",
       "      <td>0.000000</td>\n",
       "      <td>0.0</td>\n",
       "      <td>297.802500</td>\n",
       "      <td>50000 0.1</td>\n",
       "      <td>1.081679</td>\n",
       "    </tr>\n",
       "    <tr>\n",
       "      <td>6</td>\n",
       "      <td>Plugin rule 0</td>\n",
       "      <td>298.203797</td>\n",
       "      <td>0.000000</td>\n",
       "      <td>0.0</td>\n",
       "      <td>298.203797</td>\n",
       "      <td>500000 0.90</td>\n",
       "      <td>1.083137</td>\n",
       "    </tr>\n",
       "    <tr>\n",
       "      <td>12</td>\n",
       "      <td>Plugin rule 3</td>\n",
       "      <td>268.404051</td>\n",
       "      <td>32.366028</td>\n",
       "      <td>390.0</td>\n",
       "      <td>300.770079</td>\n",
       "      <td>50000</td>\n",
       "      <td>1.092458</td>\n",
       "    </tr>\n",
       "    <tr>\n",
       "      <td>0</td>\n",
       "      <td>No histogram</td>\n",
       "      <td>326.014732</td>\n",
       "      <td>0.000000</td>\n",
       "      <td>0.0</td>\n",
       "      <td>326.014732</td>\n",
       "      <td>Not applicable</td>\n",
       "      <td>1.184152</td>\n",
       "    </tr>\n",
       "    <tr>\n",
       "      <td>24</td>\n",
       "      <td>Plugin rule 9</td>\n",
       "      <td>265.722202</td>\n",
       "      <td>81.275145</td>\n",
       "      <td>989.0</td>\n",
       "      <td>346.997347</td>\n",
       "      <td>0.1 20 50000</td>\n",
       "      <td>1.260365</td>\n",
       "    </tr>\n",
       "    <tr>\n",
       "      <td>19</td>\n",
       "      <td>Plugin rule 7</td>\n",
       "      <td>347.591217</td>\n",
       "      <td>0.170344</td>\n",
       "      <td>2.0</td>\n",
       "      <td>347.761561</td>\n",
       "      <td>0.2</td>\n",
       "      <td>1.263140</td>\n",
       "    </tr>\n",
       "    <tr>\n",
       "      <td>2</td>\n",
       "      <td>Stale histogram</td>\n",
       "      <td>360.363467</td>\n",
       "      <td>0.090131</td>\n",
       "      <td>1.0</td>\n",
       "      <td>360.453598</td>\n",
       "      <td>Not applicable</td>\n",
       "      <td>1.309241</td>\n",
       "    </tr>\n",
       "    <tr>\n",
       "      <td>7</td>\n",
       "      <td>Plugin rule 2</td>\n",
       "      <td>433.896868</td>\n",
       "      <td>66.402455</td>\n",
       "      <td>390.0</td>\n",
       "      <td>500.299323</td>\n",
       "      <td>10000</td>\n",
       "      <td>1.817189</td>\n",
       "    </tr>\n",
       "    <tr>\n",
       "      <td>11</td>\n",
       "      <td>Plugin rule 3</td>\n",
       "      <td>315.836989</td>\n",
       "      <td>223.573505</td>\n",
       "      <td>1950.0</td>\n",
       "      <td>539.410494</td>\n",
       "      <td>10000</td>\n",
       "      <td>1.959248</td>\n",
       "    </tr>\n",
       "    <tr>\n",
       "      <td>3</td>\n",
       "      <td>Plugin rule 0</td>\n",
       "      <td>734.782938</td>\n",
       "      <td>0.000000</td>\n",
       "      <td>0.0</td>\n",
       "      <td>734.782938</td>\n",
       "      <td>10000 0.05</td>\n",
       "      <td>2.668881</td>\n",
       "    </tr>\n",
       "    <tr>\n",
       "      <td>20</td>\n",
       "      <td>Plugin rule 7</td>\n",
       "      <td>268.680162</td>\n",
       "      <td>682.056757</td>\n",
       "      <td>8189.0</td>\n",
       "      <td>950.736919</td>\n",
       "      <td>2</td>\n",
       "      <td>3.453269</td>\n",
       "    </tr>\n",
       "    <tr>\n",
       "      <td>21</td>\n",
       "      <td>Plugin rule 7</td>\n",
       "      <td>267.942421</td>\n",
       "      <td>1081.582593</td>\n",
       "      <td>13187.0</td>\n",
       "      <td>1349.525014</td>\n",
       "      <td>20</td>\n",
       "      <td>4.901748</td>\n",
       "    </tr>\n",
       "    <tr>\n",
       "      <td>23</td>\n",
       "      <td>Plugin rule 9</td>\n",
       "      <td>269.019501</td>\n",
       "      <td>6522.375435</td>\n",
       "      <td>79846.0</td>\n",
       "      <td>6791.394936</td>\n",
       "      <td>0.05 200 5000</td>\n",
       "      <td>24.667722</td>\n",
       "    </tr>\n",
       "    <tr>\n",
       "      <td>22</td>\n",
       "      <td>Plugin rule 7</td>\n",
       "      <td>269.034221</td>\n",
       "      <td>12829.251727</td>\n",
       "      <td>155496.0</td>\n",
       "      <td>13098.285948</td>\n",
       "      <td>200</td>\n",
       "      <td>47.575628</td>\n",
       "    </tr>\n",
       "  </tbody>\n",
       "</table>\n",
       "</div>"
      ],
      "text/plain": [
       "             Test type  Query execution duration  \\\n",
       "16       Plugin rule 6                267.094430   \n",
       "9        Plugin rule 2                268.511827   \n",
       "14       Plugin rule 3                268.953461   \n",
       "18       Plugin rule 6                270.260807   \n",
       "26       Plugin rule 9                272.323269   \n",
       "17       Plugin rule 6                271.513497   \n",
       "1   Perfect histogram                 273.589126   \n",
       "8        Plugin rule 2                272.809195   \n",
       "25       Plugin rule 9                268.891475   \n",
       "15       Plugin rule 6                280.163513   \n",
       "13       Plugin rule 3                270.099175   \n",
       "10       Plugin rule 2                295.674587   \n",
       "4        Plugin rule 0                297.061350   \n",
       "5        Plugin rule 0                297.802500   \n",
       "6        Plugin rule 0                298.203797   \n",
       "12       Plugin rule 3                268.404051   \n",
       "0        No histogram                 326.014732   \n",
       "24       Plugin rule 9                265.722202   \n",
       "19       Plugin rule 7                347.591217   \n",
       "2     Stale histogram                 360.363467   \n",
       "7        Plugin rule 2                433.896868   \n",
       "11       Plugin rule 3                315.836989   \n",
       "3        Plugin rule 0                734.782938   \n",
       "20       Plugin rule 7                268.680162   \n",
       "21       Plugin rule 7                267.942421   \n",
       "23       Plugin rule 9                269.019501   \n",
       "22       Plugin rule 7                269.034221   \n",
       "\n",
       "    Histogram execution duration  Number of histogram udpates/creates  \\\n",
       "16                      3.307501                                 55.0   \n",
       "9                       3.274541                                 39.0   \n",
       "14                      3.280519                                 39.0   \n",
       "18                      3.306000                                 55.0   \n",
       "26                      1.595539                                 19.0   \n",
       "17                      3.312466                                 55.0   \n",
       "1                       1.725912                                 20.0   \n",
       "8                       6.541124                                 78.0   \n",
       "25                     11.199573                                134.0   \n",
       "15                      3.480615                                 55.0   \n",
       "13                     16.147034                                195.0   \n",
       "10                      0.593041                                  7.0   \n",
       "4                       0.000000                                  0.0   \n",
       "5                       0.000000                                  0.0   \n",
       "6                       0.000000                                  0.0   \n",
       "12                     32.366028                                390.0   \n",
       "0                       0.000000                                  0.0   \n",
       "24                     81.275145                                989.0   \n",
       "19                      0.170344                                  2.0   \n",
       "2                       0.090131                                  1.0   \n",
       "7                      66.402455                                390.0   \n",
       "11                    223.573505                               1950.0   \n",
       "3                       0.000000                                  0.0   \n",
       "20                    682.056757                               8189.0   \n",
       "21                   1081.582593                              13187.0   \n",
       "23                   6522.375435                              79846.0   \n",
       "22                  12829.251727                             155496.0   \n",
       "\n",
       "    Total duration Supplied parameters    Q-ratio  \n",
       "16      270.401931                 0.1   0.982155  \n",
       "9       271.786368              100000   0.987183  \n",
       "14      272.233980              500000   0.988809  \n",
       "18      273.566807                 0.9   0.993650  \n",
       "26      273.918808     0.90 0.2 500000   0.994929  \n",
       "17      274.825963                 0.5   0.998224  \n",
       "1       275.315038      Not applicable   1.000000  \n",
       "8       279.350319               50000   1.014657  \n",
       "25      280.091048        0.5 2 100000   1.017347  \n",
       "15      283.644128                0.05   1.030253  \n",
       "13      286.246209              100000   1.039704  \n",
       "10      296.267628              500000   1.076104  \n",
       "4       297.061350          100000 0.5   1.078987  \n",
       "5       297.802500           50000 0.1   1.081679  \n",
       "6       298.203797         500000 0.90   1.083137  \n",
       "12      300.770079               50000   1.092458  \n",
       "0       326.014732      Not applicable   1.184152  \n",
       "24      346.997347        0.1 20 50000   1.260365  \n",
       "19      347.761561                 0.2   1.263140  \n",
       "2       360.453598      Not applicable   1.309241  \n",
       "7       500.299323               10000   1.817189  \n",
       "11      539.410494               10000   1.959248  \n",
       "3       734.782938          10000 0.05   2.668881  \n",
       "20      950.736919                   2   3.453269  \n",
       "21     1349.525014                  20   4.901748  \n",
       "23     6791.394936       0.05 200 5000  24.667722  \n",
       "22    13098.285948                 200  47.575628  "
      ]
     },
     "execution_count": 139,
     "metadata": {},
     "output_type": "execute_result"
    }
   ],
   "source": [
    "q_ratio_df=df_5.loc[df_5['Test type'].isin(['No histogram ','Perfect histogram ','Stale histogram '])].groupby(['Test type']).mean().reset_index()\n",
    "q_ratio_df['Supplied parameters'] = 'Not applicable'\n",
    "q_ratio_df = q_ratio_df.append(df_5.loc[~df_5['Test type'].isin(['No histogram ','Perfect histogram ','Stale histogram '])],ignore_index=True,sort=False)\n",
    "q_ratio_df = q_ratio_df[['Test type','Query execution duration','Histogram execution duration','No_of_executes','Query and histogram execution duration','Supplied parameters']]\n",
    "q_ratio_df=q_ratio_df.rename(columns={\"Query and histogram execution duration\": \"Total duration\", \"No_of_executes\": \"Number of histogram udpates/creates\"})\n",
    "q_ratio_df['Q-ratio']=q_ratio_df['Total duration'].apply(lambda x: x/q_ratio_df['Total duration'].loc[q_ratio_df['Test type']=='Perfect histogram '], 0)\n",
    "q_ratio_df = q_ratio_df.sort_values('Q-ratio')\n",
    "q_ratio_df.head(5000)"
   ]
  },
  {
   "cell_type": "code",
   "execution_count": 140,
   "metadata": {},
   "outputs": [
    {
     "data": {
      "text/html": [
       "<div>\n",
       "<style scoped>\n",
       "    .dataframe tbody tr th:only-of-type {\n",
       "        vertical-align: middle;\n",
       "    }\n",
       "\n",
       "    .dataframe tbody tr th {\n",
       "        vertical-align: top;\n",
       "    }\n",
       "\n",
       "    .dataframe thead th {\n",
       "        text-align: right;\n",
       "    }\n",
       "</style>\n",
       "<table border=\"1\" class=\"dataframe\">\n",
       "  <thead>\n",
       "    <tr style=\"text-align: right;\">\n",
       "      <th></th>\n",
       "      <th>Test type</th>\n",
       "      <th>Supplied parameters</th>\n",
       "      <th>Query execution duration</th>\n",
       "      <th>Histogram execution duration</th>\n",
       "      <th>No_of_executes</th>\n",
       "      <th>Query and histogram execution duration</th>\n",
       "    </tr>\n",
       "  </thead>\n",
       "  <tbody>\n",
       "    <tr>\n",
       "      <td>0</td>\n",
       "      <td>No histogram</td>\n",
       "      <td>10000 0.05 200 5000</td>\n",
       "      <td>407.357792</td>\n",
       "      <td>0.000000</td>\n",
       "      <td>0.0</td>\n",
       "      <td>407.357792</td>\n",
       "    </tr>\n",
       "    <tr>\n",
       "      <td>1</td>\n",
       "      <td>No histogram</td>\n",
       "      <td>100000 0.5 2 100000</td>\n",
       "      <td>296.996209</td>\n",
       "      <td>0.000000</td>\n",
       "      <td>0.0</td>\n",
       "      <td>296.996209</td>\n",
       "    </tr>\n",
       "    <tr>\n",
       "      <td>2</td>\n",
       "      <td>No histogram</td>\n",
       "      <td>50000 0.1 20 50000</td>\n",
       "      <td>300.949789</td>\n",
       "      <td>0.000000</td>\n",
       "      <td>0.0</td>\n",
       "      <td>300.949789</td>\n",
       "    </tr>\n",
       "    <tr>\n",
       "      <td>3</td>\n",
       "      <td>No histogram</td>\n",
       "      <td>500000 0.90 0.2 500000</td>\n",
       "      <td>298.755136</td>\n",
       "      <td>0.000000</td>\n",
       "      <td>0.0</td>\n",
       "      <td>298.755136</td>\n",
       "    </tr>\n",
       "    <tr>\n",
       "      <td>4</td>\n",
       "      <td>Perfect histogram</td>\n",
       "      <td>10000 0.05 200 5000</td>\n",
       "      <td>283.617019</td>\n",
       "      <td>1.809026</td>\n",
       "      <td>20.0</td>\n",
       "      <td>285.426045</td>\n",
       "    </tr>\n",
       "    <tr>\n",
       "      <td>5</td>\n",
       "      <td>Perfect histogram</td>\n",
       "      <td>100000 0.5 2 100000</td>\n",
       "      <td>268.158574</td>\n",
       "      <td>1.704012</td>\n",
       "      <td>20.0</td>\n",
       "      <td>269.862586</td>\n",
       "    </tr>\n",
       "    <tr>\n",
       "      <td>6</td>\n",
       "      <td>Perfect histogram</td>\n",
       "      <td>50000 0.1 20 50000</td>\n",
       "      <td>269.488339</td>\n",
       "      <td>1.693265</td>\n",
       "      <td>20.0</td>\n",
       "      <td>271.181604</td>\n",
       "    </tr>\n",
       "    <tr>\n",
       "      <td>7</td>\n",
       "      <td>Perfect histogram</td>\n",
       "      <td>500000 0.90 0.2 500000</td>\n",
       "      <td>273.092573</td>\n",
       "      <td>1.697343</td>\n",
       "      <td>20.0</td>\n",
       "      <td>274.789916</td>\n",
       "    </tr>\n",
       "    <tr>\n",
       "      <td>8</td>\n",
       "      <td>Plugin rule 0</td>\n",
       "      <td>10000 0.05</td>\n",
       "      <td>734.782938</td>\n",
       "      <td>0.000000</td>\n",
       "      <td>0.0</td>\n",
       "      <td>734.782938</td>\n",
       "    </tr>\n",
       "    <tr>\n",
       "      <td>9</td>\n",
       "      <td>Plugin rule 0</td>\n",
       "      <td>100000 0.5</td>\n",
       "      <td>297.061350</td>\n",
       "      <td>0.000000</td>\n",
       "      <td>0.0</td>\n",
       "      <td>297.061350</td>\n",
       "    </tr>\n",
       "    <tr>\n",
       "      <td>10</td>\n",
       "      <td>Plugin rule 0</td>\n",
       "      <td>50000 0.1</td>\n",
       "      <td>297.802500</td>\n",
       "      <td>0.000000</td>\n",
       "      <td>0.0</td>\n",
       "      <td>297.802500</td>\n",
       "    </tr>\n",
       "    <tr>\n",
       "      <td>11</td>\n",
       "      <td>Plugin rule 0</td>\n",
       "      <td>500000 0.90</td>\n",
       "      <td>298.203797</td>\n",
       "      <td>0.000000</td>\n",
       "      <td>0.0</td>\n",
       "      <td>298.203797</td>\n",
       "    </tr>\n",
       "    <tr>\n",
       "      <td>12</td>\n",
       "      <td>Plugin rule 2</td>\n",
       "      <td>10000</td>\n",
       "      <td>433.896868</td>\n",
       "      <td>66.402455</td>\n",
       "      <td>390.0</td>\n",
       "      <td>500.299323</td>\n",
       "    </tr>\n",
       "    <tr>\n",
       "      <td>13</td>\n",
       "      <td>Plugin rule 2</td>\n",
       "      <td>50000</td>\n",
       "      <td>272.809195</td>\n",
       "      <td>6.541124</td>\n",
       "      <td>78.0</td>\n",
       "      <td>279.350319</td>\n",
       "    </tr>\n",
       "    <tr>\n",
       "      <td>14</td>\n",
       "      <td>Plugin rule 2</td>\n",
       "      <td>100000</td>\n",
       "      <td>268.511827</td>\n",
       "      <td>3.274541</td>\n",
       "      <td>39.0</td>\n",
       "      <td>271.786368</td>\n",
       "    </tr>\n",
       "    <tr>\n",
       "      <td>15</td>\n",
       "      <td>Plugin rule 2</td>\n",
       "      <td>500000</td>\n",
       "      <td>295.674587</td>\n",
       "      <td>0.593041</td>\n",
       "      <td>7.0</td>\n",
       "      <td>296.267628</td>\n",
       "    </tr>\n",
       "    <tr>\n",
       "      <td>16</td>\n",
       "      <td>Plugin rule 3</td>\n",
       "      <td>10000</td>\n",
       "      <td>315.836989</td>\n",
       "      <td>223.573505</td>\n",
       "      <td>1950.0</td>\n",
       "      <td>539.410494</td>\n",
       "    </tr>\n",
       "    <tr>\n",
       "      <td>17</td>\n",
       "      <td>Plugin rule 3</td>\n",
       "      <td>50000</td>\n",
       "      <td>268.404051</td>\n",
       "      <td>32.366028</td>\n",
       "      <td>390.0</td>\n",
       "      <td>300.770079</td>\n",
       "    </tr>\n",
       "    <tr>\n",
       "      <td>18</td>\n",
       "      <td>Plugin rule 3</td>\n",
       "      <td>100000</td>\n",
       "      <td>270.099175</td>\n",
       "      <td>16.147034</td>\n",
       "      <td>195.0</td>\n",
       "      <td>286.246209</td>\n",
       "    </tr>\n",
       "    <tr>\n",
       "      <td>19</td>\n",
       "      <td>Plugin rule 3</td>\n",
       "      <td>500000</td>\n",
       "      <td>268.953461</td>\n",
       "      <td>3.280519</td>\n",
       "      <td>39.0</td>\n",
       "      <td>272.233980</td>\n",
       "    </tr>\n",
       "    <tr>\n",
       "      <td>20</td>\n",
       "      <td>Plugin rule 6</td>\n",
       "      <td>0.05</td>\n",
       "      <td>280.163513</td>\n",
       "      <td>3.480615</td>\n",
       "      <td>55.0</td>\n",
       "      <td>283.644128</td>\n",
       "    </tr>\n",
       "    <tr>\n",
       "      <td>21</td>\n",
       "      <td>Plugin rule 6</td>\n",
       "      <td>0.1</td>\n",
       "      <td>267.094430</td>\n",
       "      <td>3.307501</td>\n",
       "      <td>55.0</td>\n",
       "      <td>270.401931</td>\n",
       "    </tr>\n",
       "    <tr>\n",
       "      <td>22</td>\n",
       "      <td>Plugin rule 6</td>\n",
       "      <td>0.5</td>\n",
       "      <td>271.513497</td>\n",
       "      <td>3.312466</td>\n",
       "      <td>55.0</td>\n",
       "      <td>274.825963</td>\n",
       "    </tr>\n",
       "    <tr>\n",
       "      <td>23</td>\n",
       "      <td>Plugin rule 6</td>\n",
       "      <td>0.9</td>\n",
       "      <td>270.260807</td>\n",
       "      <td>3.306000</td>\n",
       "      <td>55.0</td>\n",
       "      <td>273.566807</td>\n",
       "    </tr>\n",
       "    <tr>\n",
       "      <td>24</td>\n",
       "      <td>Plugin rule 7</td>\n",
       "      <td>0.2</td>\n",
       "      <td>347.591217</td>\n",
       "      <td>0.170344</td>\n",
       "      <td>2.0</td>\n",
       "      <td>347.761561</td>\n",
       "    </tr>\n",
       "    <tr>\n",
       "      <td>25</td>\n",
       "      <td>Plugin rule 7</td>\n",
       "      <td>2</td>\n",
       "      <td>268.680162</td>\n",
       "      <td>682.056757</td>\n",
       "      <td>8189.0</td>\n",
       "      <td>950.736919</td>\n",
       "    </tr>\n",
       "    <tr>\n",
       "      <td>26</td>\n",
       "      <td>Plugin rule 7</td>\n",
       "      <td>20</td>\n",
       "      <td>267.942421</td>\n",
       "      <td>1081.582593</td>\n",
       "      <td>13187.0</td>\n",
       "      <td>1349.525014</td>\n",
       "    </tr>\n",
       "    <tr>\n",
       "      <td>27</td>\n",
       "      <td>Plugin rule 7</td>\n",
       "      <td>200</td>\n",
       "      <td>269.034221</td>\n",
       "      <td>12829.251727</td>\n",
       "      <td>155496.0</td>\n",
       "      <td>13098.285948</td>\n",
       "    </tr>\n",
       "    <tr>\n",
       "      <td>28</td>\n",
       "      <td>Plugin rule 9</td>\n",
       "      <td>0.05 200 5000</td>\n",
       "      <td>269.019501</td>\n",
       "      <td>6522.375435</td>\n",
       "      <td>79846.0</td>\n",
       "      <td>6791.394936</td>\n",
       "    </tr>\n",
       "    <tr>\n",
       "      <td>29</td>\n",
       "      <td>Plugin rule 9</td>\n",
       "      <td>0.1 20 50000</td>\n",
       "      <td>265.722202</td>\n",
       "      <td>81.275145</td>\n",
       "      <td>989.0</td>\n",
       "      <td>346.997347</td>\n",
       "    </tr>\n",
       "    <tr>\n",
       "      <td>30</td>\n",
       "      <td>Plugin rule 9</td>\n",
       "      <td>0.5 2 100000</td>\n",
       "      <td>268.891475</td>\n",
       "      <td>11.199573</td>\n",
       "      <td>134.0</td>\n",
       "      <td>280.091048</td>\n",
       "    </tr>\n",
       "    <tr>\n",
       "      <td>31</td>\n",
       "      <td>Plugin rule 9</td>\n",
       "      <td>0.90 0.2 500000</td>\n",
       "      <td>272.323269</td>\n",
       "      <td>1.595539</td>\n",
       "      <td>19.0</td>\n",
       "      <td>273.918808</td>\n",
       "    </tr>\n",
       "    <tr>\n",
       "      <td>32</td>\n",
       "      <td>Stale histogram</td>\n",
       "      <td>10000 0.05 200 5000</td>\n",
       "      <td>480.733261</td>\n",
       "      <td>0.095266</td>\n",
       "      <td>1.0</td>\n",
       "      <td>480.828527</td>\n",
       "    </tr>\n",
       "    <tr>\n",
       "      <td>33</td>\n",
       "      <td>Stale histogram</td>\n",
       "      <td>100000 0.5 2 100000</td>\n",
       "      <td>319.125140</td>\n",
       "      <td>0.087322</td>\n",
       "      <td>1.0</td>\n",
       "      <td>319.212462</td>\n",
       "    </tr>\n",
       "    <tr>\n",
       "      <td>34</td>\n",
       "      <td>Stale histogram</td>\n",
       "      <td>50000 0.1 20 50000</td>\n",
       "      <td>321.437508</td>\n",
       "      <td>0.087719</td>\n",
       "      <td>1.0</td>\n",
       "      <td>321.525227</td>\n",
       "    </tr>\n",
       "    <tr>\n",
       "      <td>35</td>\n",
       "      <td>Stale histogram</td>\n",
       "      <td>500000 0.90 0.2 500000</td>\n",
       "      <td>320.157960</td>\n",
       "      <td>0.090217</td>\n",
       "      <td>1.0</td>\n",
       "      <td>320.248177</td>\n",
       "    </tr>\n",
       "  </tbody>\n",
       "</table>\n",
       "</div>"
      ],
      "text/plain": [
       "             Test type     Supplied parameters  Query execution duration  \\\n",
       "0        No histogram      10000 0.05 200 5000                407.357792   \n",
       "1        No histogram      100000 0.5 2 100000                296.996209   \n",
       "2        No histogram       50000 0.1 20 50000                300.949789   \n",
       "3        No histogram   500000 0.90 0.2 500000                298.755136   \n",
       "4   Perfect histogram      10000 0.05 200 5000                283.617019   \n",
       "5   Perfect histogram      100000 0.5 2 100000                268.158574   \n",
       "6   Perfect histogram       50000 0.1 20 50000                269.488339   \n",
       "7   Perfect histogram   500000 0.90 0.2 500000                273.092573   \n",
       "8        Plugin rule 0              10000 0.05                734.782938   \n",
       "9        Plugin rule 0              100000 0.5                297.061350   \n",
       "10       Plugin rule 0               50000 0.1                297.802500   \n",
       "11       Plugin rule 0             500000 0.90                298.203797   \n",
       "12       Plugin rule 2                   10000                433.896868   \n",
       "13       Plugin rule 2                   50000                272.809195   \n",
       "14       Plugin rule 2                  100000                268.511827   \n",
       "15       Plugin rule 2                  500000                295.674587   \n",
       "16       Plugin rule 3                   10000                315.836989   \n",
       "17       Plugin rule 3                   50000                268.404051   \n",
       "18       Plugin rule 3                  100000                270.099175   \n",
       "19       Plugin rule 3                  500000                268.953461   \n",
       "20       Plugin rule 6                    0.05                280.163513   \n",
       "21       Plugin rule 6                     0.1                267.094430   \n",
       "22       Plugin rule 6                     0.5                271.513497   \n",
       "23       Plugin rule 6                     0.9                270.260807   \n",
       "24       Plugin rule 7                     0.2                347.591217   \n",
       "25       Plugin rule 7                       2                268.680162   \n",
       "26       Plugin rule 7                      20                267.942421   \n",
       "27       Plugin rule 7                     200                269.034221   \n",
       "28       Plugin rule 9           0.05 200 5000                269.019501   \n",
       "29       Plugin rule 9            0.1 20 50000                265.722202   \n",
       "30       Plugin rule 9            0.5 2 100000                268.891475   \n",
       "31       Plugin rule 9         0.90 0.2 500000                272.323269   \n",
       "32    Stale histogram      10000 0.05 200 5000                480.733261   \n",
       "33    Stale histogram      100000 0.5 2 100000                319.125140   \n",
       "34    Stale histogram       50000 0.1 20 50000                321.437508   \n",
       "35    Stale histogram   500000 0.90 0.2 500000                320.157960   \n",
       "\n",
       "    Histogram execution duration  No_of_executes  \\\n",
       "0                       0.000000             0.0   \n",
       "1                       0.000000             0.0   \n",
       "2                       0.000000             0.0   \n",
       "3                       0.000000             0.0   \n",
       "4                       1.809026            20.0   \n",
       "5                       1.704012            20.0   \n",
       "6                       1.693265            20.0   \n",
       "7                       1.697343            20.0   \n",
       "8                       0.000000             0.0   \n",
       "9                       0.000000             0.0   \n",
       "10                      0.000000             0.0   \n",
       "11                      0.000000             0.0   \n",
       "12                     66.402455           390.0   \n",
       "13                      6.541124            78.0   \n",
       "14                      3.274541            39.0   \n",
       "15                      0.593041             7.0   \n",
       "16                    223.573505          1950.0   \n",
       "17                     32.366028           390.0   \n",
       "18                     16.147034           195.0   \n",
       "19                      3.280519            39.0   \n",
       "20                      3.480615            55.0   \n",
       "21                      3.307501            55.0   \n",
       "22                      3.312466            55.0   \n",
       "23                      3.306000            55.0   \n",
       "24                      0.170344             2.0   \n",
       "25                    682.056757          8189.0   \n",
       "26                   1081.582593         13187.0   \n",
       "27                  12829.251727        155496.0   \n",
       "28                   6522.375435         79846.0   \n",
       "29                     81.275145           989.0   \n",
       "30                     11.199573           134.0   \n",
       "31                      1.595539            19.0   \n",
       "32                      0.095266             1.0   \n",
       "33                      0.087322             1.0   \n",
       "34                      0.087719             1.0   \n",
       "35                      0.090217             1.0   \n",
       "\n",
       "    Query and histogram execution duration  \n",
       "0                               407.357792  \n",
       "1                               296.996209  \n",
       "2                               300.949789  \n",
       "3                               298.755136  \n",
       "4                               285.426045  \n",
       "5                               269.862586  \n",
       "6                               271.181604  \n",
       "7                               274.789916  \n",
       "8                               734.782938  \n",
       "9                               297.061350  \n",
       "10                              297.802500  \n",
       "11                              298.203797  \n",
       "12                              500.299323  \n",
       "13                              279.350319  \n",
       "14                              271.786368  \n",
       "15                              296.267628  \n",
       "16                              539.410494  \n",
       "17                              300.770079  \n",
       "18                              286.246209  \n",
       "19                              272.233980  \n",
       "20                              283.644128  \n",
       "21                              270.401931  \n",
       "22                              274.825963  \n",
       "23                              273.566807  \n",
       "24                              347.761561  \n",
       "25                              950.736919  \n",
       "26                             1349.525014  \n",
       "27                            13098.285948  \n",
       "28                             6791.394936  \n",
       "29                              346.997347  \n",
       "30                              280.091048  \n",
       "31                              273.918808  \n",
       "32                              480.828527  \n",
       "33                              319.212462  \n",
       "34                              321.525227  \n",
       "35                              320.248177  "
      ]
     },
     "execution_count": 140,
     "metadata": {},
     "output_type": "execute_result"
    }
   ],
   "source": [
    "df_5.head(500)"
   ]
  },
  {
   "cell_type": "markdown",
   "metadata": {},
   "source": [
    "# Generate sensitivity plots for single parameter rules#"
   ]
  },
  {
   "cell_type": "code",
   "execution_count": 156,
   "metadata": {},
   "outputs": [
    {
     "data": {
      "text/plain": [
       "<Figure size 936x648 with 0 Axes>"
      ]
     },
     "metadata": {},
     "output_type": "display_data"
    },
    {
     "data": {
      "text/plain": [
       "<Figure size 936x648 with 0 Axes>"
      ]
     },
     "metadata": {},
     "output_type": "display_data"
    }
   ],
   "source": [
    "base_rules = ['No histogram ','Perfect histogram ','Stale histogram ']\n",
    "rules_to_avoid_for_now = ['Plugin rule 9','Plugin rule 0','Plugin rule 7','Plugin rule 3']\n",
    "for rule in sensitivity_df['Test type'].unique().tolist():\n",
    "   # if rule == 'No histogram ':\n",
    "   #     temp = sensitivity_df.set_index('Test type')\n",
    "   #     temp = temp.loc[base_rules].reset_index().set_index('Supplied parameters').loc['Not applicable'].reset_index()\n",
    "   #     fig = plt.figure(figsize=(13,9))\n",
    "   #     gs = gridspec.GridSpec(nrows=4, \n",
    "   #                        ncols=1, \n",
    "   #                        figure=fig, \n",
    "   #                        height_ratios=[1, 1, 1, 1],\n",
    "   #                        wspace=0.3,\n",
    "   #                        hspace=0.3)\n",
    "   #     ax1 = fig.add_subplot(gs[1:3,0])\n",
    "  #      sns.lineplot(x=\"Supplied parameters\", y=\"Duration\",\n",
    "  #                   markers=True, hue = 'Test type', style = 'Duration type',\n",
    "  #                   data=temp[~temp['Duration type'].isin(['No_of_executes'])],ax=ax1)\n",
    "  #      xlabels = [float(x) for x in ax1.get_xticks()]\n",
    "  #      ax1.set_xticklabels(xlabels)\n",
    "  #      ax1.set_ylabel(\"Duration (s)\")\n",
    "  #      sensitivity_plot = plt.gcf()\n",
    "  #      path = \"/export/home/tmp/Dropbox/Apper/ShareLaTeX/Master/eval_plots/sensitivity_plots/\"\n",
    " #       name = str(base_rules)+\".png\"\n",
    " #       sensitivity_plot.savefig(path+name,dpi=360,bbox_inches='tight')\n",
    "#        plt.clf()\n",
    "    if rule not in base_rules and rule not in rules_to_avoid_for_now:\n",
    "        base_rules.append(rule)\n",
    "        temp = sensitivity_df.set_index('Test type')\n",
    "        temp = temp.loc[base_rules]\n",
    "        temp = temp[~temp['Supplied parameters'].isin(['Not applicable'])]\n",
    "        temp=temp.astype({'Supplied parameters': 'float'})\n",
    "        holder = temp.groupby('Test type')\n",
    "        holder = holder.apply(lambda x: x['Supplied parameters'].unique())\n",
    "        unique_params_we_want_to_use = holder.loc[rule].tolist()\n",
    "        temp = temp.loc[temp['Supplied parameters'].isin(unique_params_we_want_to_use)].reset_index()\n",
    "        fig = plt.figure(figsize=(13,9))\n",
    "        gs = gridspec.GridSpec(nrows=4, \n",
    "                           ncols=1, \n",
    "                           figure=fig, \n",
    "                           height_ratios=[1, 1, 1, 1],\n",
    "                           wspace=0.3,\n",
    "                           hspace=0.3)\n",
    "        ax1 = fig.add_subplot(gs[1:3,0])\n",
    "        sns.lineplot(x=\"Supplied parameters\", y=\"Duration\",\n",
    "                     markers=True, hue = 'Test type', style = 'Duration type',\n",
    "                     data=temp[~temp['Duration type'].isin(['No_of_executes'])],ax=ax1)\n",
    "        ax1.set_ylabel(\"Duration (s)\")\n",
    "        sensitivity_plot = plt.gcf()\n",
    "        path = \"/export/home/tmp/Dropbox/Apper/ShareLaTeX/Master/eval_plots/sensitivity_plots/\"\n",
    "        name = str(base_rules)+\".png\"\n",
    "        sensitivity_plot.savefig(path+name,dpi=360,bbox_inches='tight')\n",
    "        plt.clf()\n",
    "        base_rules.pop()"
   ]
  },
  {
   "cell_type": "code",
   "execution_count": 155,
   "metadata": {},
   "outputs": [
    {
     "data": {
      "text/html": [
       "<div>\n",
       "<style scoped>\n",
       "    .dataframe tbody tr th:only-of-type {\n",
       "        vertical-align: middle;\n",
       "    }\n",
       "\n",
       "    .dataframe tbody tr th {\n",
       "        vertical-align: top;\n",
       "    }\n",
       "\n",
       "    .dataframe thead th {\n",
       "        text-align: right;\n",
       "    }\n",
       "</style>\n",
       "<table border=\"1\" class=\"dataframe\">\n",
       "  <thead>\n",
       "    <tr style=\"text-align: right;\">\n",
       "      <th></th>\n",
       "      <th>Test type</th>\n",
       "      <th>Supplied parameters</th>\n",
       "      <th>Duration type</th>\n",
       "      <th>Duration</th>\n",
       "    </tr>\n",
       "  </thead>\n",
       "  <tbody>\n",
       "    <tr>\n",
       "      <td>0</td>\n",
       "      <td>No histogram</td>\n",
       "      <td>10000.0</td>\n",
       "      <td>Query and histogram execution duration</td>\n",
       "      <td>407.357792</td>\n",
       "    </tr>\n",
       "    <tr>\n",
       "      <td>1</td>\n",
       "      <td>No histogram</td>\n",
       "      <td>100000.0</td>\n",
       "      <td>Query and histogram execution duration</td>\n",
       "      <td>296.996209</td>\n",
       "    </tr>\n",
       "    <tr>\n",
       "      <td>2</td>\n",
       "      <td>No histogram</td>\n",
       "      <td>100000.0</td>\n",
       "      <td>Query and histogram execution duration</td>\n",
       "      <td>296.996209</td>\n",
       "    </tr>\n",
       "    <tr>\n",
       "      <td>3</td>\n",
       "      <td>No histogram</td>\n",
       "      <td>50000.0</td>\n",
       "      <td>Query and histogram execution duration</td>\n",
       "      <td>300.949789</td>\n",
       "    </tr>\n",
       "    <tr>\n",
       "      <td>4</td>\n",
       "      <td>No histogram</td>\n",
       "      <td>50000.0</td>\n",
       "      <td>Query and histogram execution duration</td>\n",
       "      <td>300.949789</td>\n",
       "    </tr>\n",
       "    <tr>\n",
       "      <td>5</td>\n",
       "      <td>No histogram</td>\n",
       "      <td>500000.0</td>\n",
       "      <td>Query and histogram execution duration</td>\n",
       "      <td>298.755136</td>\n",
       "    </tr>\n",
       "    <tr>\n",
       "      <td>6</td>\n",
       "      <td>No histogram</td>\n",
       "      <td>500000.0</td>\n",
       "      <td>Query and histogram execution duration</td>\n",
       "      <td>298.755136</td>\n",
       "    </tr>\n",
       "    <tr>\n",
       "      <td>7</td>\n",
       "      <td>Perfect histogram</td>\n",
       "      <td>10000.0</td>\n",
       "      <td>Query and histogram execution duration</td>\n",
       "      <td>285.426045</td>\n",
       "    </tr>\n",
       "    <tr>\n",
       "      <td>8</td>\n",
       "      <td>Perfect histogram</td>\n",
       "      <td>100000.0</td>\n",
       "      <td>Query and histogram execution duration</td>\n",
       "      <td>269.862586</td>\n",
       "    </tr>\n",
       "    <tr>\n",
       "      <td>9</td>\n",
       "      <td>Perfect histogram</td>\n",
       "      <td>100000.0</td>\n",
       "      <td>Query and histogram execution duration</td>\n",
       "      <td>269.862586</td>\n",
       "    </tr>\n",
       "    <tr>\n",
       "      <td>10</td>\n",
       "      <td>Perfect histogram</td>\n",
       "      <td>50000.0</td>\n",
       "      <td>Query and histogram execution duration</td>\n",
       "      <td>271.181604</td>\n",
       "    </tr>\n",
       "    <tr>\n",
       "      <td>11</td>\n",
       "      <td>Perfect histogram</td>\n",
       "      <td>50000.0</td>\n",
       "      <td>Query and histogram execution duration</td>\n",
       "      <td>271.181604</td>\n",
       "    </tr>\n",
       "    <tr>\n",
       "      <td>12</td>\n",
       "      <td>Perfect histogram</td>\n",
       "      <td>500000.0</td>\n",
       "      <td>Query and histogram execution duration</td>\n",
       "      <td>274.789916</td>\n",
       "    </tr>\n",
       "    <tr>\n",
       "      <td>13</td>\n",
       "      <td>Perfect histogram</td>\n",
       "      <td>500000.0</td>\n",
       "      <td>Query and histogram execution duration</td>\n",
       "      <td>274.789916</td>\n",
       "    </tr>\n",
       "    <tr>\n",
       "      <td>14</td>\n",
       "      <td>Stale histogram</td>\n",
       "      <td>10000.0</td>\n",
       "      <td>Query and histogram execution duration</td>\n",
       "      <td>480.828527</td>\n",
       "    </tr>\n",
       "    <tr>\n",
       "      <td>15</td>\n",
       "      <td>Stale histogram</td>\n",
       "      <td>100000.0</td>\n",
       "      <td>Query and histogram execution duration</td>\n",
       "      <td>319.212462</td>\n",
       "    </tr>\n",
       "    <tr>\n",
       "      <td>16</td>\n",
       "      <td>Stale histogram</td>\n",
       "      <td>100000.0</td>\n",
       "      <td>Query and histogram execution duration</td>\n",
       "      <td>319.212462</td>\n",
       "    </tr>\n",
       "    <tr>\n",
       "      <td>17</td>\n",
       "      <td>Stale histogram</td>\n",
       "      <td>50000.0</td>\n",
       "      <td>Query and histogram execution duration</td>\n",
       "      <td>321.525227</td>\n",
       "    </tr>\n",
       "    <tr>\n",
       "      <td>18</td>\n",
       "      <td>Stale histogram</td>\n",
       "      <td>50000.0</td>\n",
       "      <td>Query and histogram execution duration</td>\n",
       "      <td>321.525227</td>\n",
       "    </tr>\n",
       "    <tr>\n",
       "      <td>19</td>\n",
       "      <td>Stale histogram</td>\n",
       "      <td>500000.0</td>\n",
       "      <td>Query and histogram execution duration</td>\n",
       "      <td>320.248177</td>\n",
       "    </tr>\n",
       "    <tr>\n",
       "      <td>20</td>\n",
       "      <td>Stale histogram</td>\n",
       "      <td>500000.0</td>\n",
       "      <td>Query and histogram execution duration</td>\n",
       "      <td>320.248177</td>\n",
       "    </tr>\n",
       "    <tr>\n",
       "      <td>21</td>\n",
       "      <td>Plugin rule 2</td>\n",
       "      <td>10000.0</td>\n",
       "      <td>Query execution duration</td>\n",
       "      <td>433.896868</td>\n",
       "    </tr>\n",
       "    <tr>\n",
       "      <td>22</td>\n",
       "      <td>Plugin rule 2</td>\n",
       "      <td>10000.0</td>\n",
       "      <td>No_of_executes</td>\n",
       "      <td>390.000000</td>\n",
       "    </tr>\n",
       "    <tr>\n",
       "      <td>23</td>\n",
       "      <td>Plugin rule 2</td>\n",
       "      <td>10000.0</td>\n",
       "      <td>Query and histogram execution duration</td>\n",
       "      <td>500.299323</td>\n",
       "    </tr>\n",
       "    <tr>\n",
       "      <td>24</td>\n",
       "      <td>Plugin rule 2</td>\n",
       "      <td>50000.0</td>\n",
       "      <td>Query execution duration</td>\n",
       "      <td>272.809195</td>\n",
       "    </tr>\n",
       "    <tr>\n",
       "      <td>25</td>\n",
       "      <td>Plugin rule 2</td>\n",
       "      <td>50000.0</td>\n",
       "      <td>No_of_executes</td>\n",
       "      <td>78.000000</td>\n",
       "    </tr>\n",
       "    <tr>\n",
       "      <td>26</td>\n",
       "      <td>Plugin rule 2</td>\n",
       "      <td>50000.0</td>\n",
       "      <td>Query and histogram execution duration</td>\n",
       "      <td>279.350319</td>\n",
       "    </tr>\n",
       "    <tr>\n",
       "      <td>27</td>\n",
       "      <td>Plugin rule 2</td>\n",
       "      <td>100000.0</td>\n",
       "      <td>Query execution duration</td>\n",
       "      <td>268.511827</td>\n",
       "    </tr>\n",
       "    <tr>\n",
       "      <td>28</td>\n",
       "      <td>Plugin rule 2</td>\n",
       "      <td>100000.0</td>\n",
       "      <td>No_of_executes</td>\n",
       "      <td>39.000000</td>\n",
       "    </tr>\n",
       "    <tr>\n",
       "      <td>29</td>\n",
       "      <td>Plugin rule 2</td>\n",
       "      <td>100000.0</td>\n",
       "      <td>Query and histogram execution duration</td>\n",
       "      <td>271.786368</td>\n",
       "    </tr>\n",
       "    <tr>\n",
       "      <td>30</td>\n",
       "      <td>Plugin rule 2</td>\n",
       "      <td>500000.0</td>\n",
       "      <td>Query execution duration</td>\n",
       "      <td>295.674587</td>\n",
       "    </tr>\n",
       "    <tr>\n",
       "      <td>31</td>\n",
       "      <td>Plugin rule 2</td>\n",
       "      <td>500000.0</td>\n",
       "      <td>No_of_executes</td>\n",
       "      <td>7.000000</td>\n",
       "    </tr>\n",
       "    <tr>\n",
       "      <td>32</td>\n",
       "      <td>Plugin rule 2</td>\n",
       "      <td>500000.0</td>\n",
       "      <td>Query and histogram execution duration</td>\n",
       "      <td>296.267628</td>\n",
       "    </tr>\n",
       "  </tbody>\n",
       "</table>\n",
       "</div>"
      ],
      "text/plain": [
       "             Test type  Supplied parameters  \\\n",
       "0        No histogram               10000.0   \n",
       "1        No histogram              100000.0   \n",
       "2        No histogram              100000.0   \n",
       "3        No histogram               50000.0   \n",
       "4        No histogram               50000.0   \n",
       "5        No histogram              500000.0   \n",
       "6        No histogram              500000.0   \n",
       "7   Perfect histogram               10000.0   \n",
       "8   Perfect histogram              100000.0   \n",
       "9   Perfect histogram              100000.0   \n",
       "10  Perfect histogram               50000.0   \n",
       "11  Perfect histogram               50000.0   \n",
       "12  Perfect histogram              500000.0   \n",
       "13  Perfect histogram              500000.0   \n",
       "14    Stale histogram               10000.0   \n",
       "15    Stale histogram              100000.0   \n",
       "16    Stale histogram              100000.0   \n",
       "17    Stale histogram               50000.0   \n",
       "18    Stale histogram               50000.0   \n",
       "19    Stale histogram              500000.0   \n",
       "20    Stale histogram              500000.0   \n",
       "21       Plugin rule 2              10000.0   \n",
       "22       Plugin rule 2              10000.0   \n",
       "23       Plugin rule 2              10000.0   \n",
       "24       Plugin rule 2              50000.0   \n",
       "25       Plugin rule 2              50000.0   \n",
       "26       Plugin rule 2              50000.0   \n",
       "27       Plugin rule 2             100000.0   \n",
       "28       Plugin rule 2             100000.0   \n",
       "29       Plugin rule 2             100000.0   \n",
       "30       Plugin rule 2             500000.0   \n",
       "31       Plugin rule 2             500000.0   \n",
       "32       Plugin rule 2             500000.0   \n",
       "\n",
       "                             Duration type    Duration  \n",
       "0   Query and histogram execution duration  407.357792  \n",
       "1   Query and histogram execution duration  296.996209  \n",
       "2   Query and histogram execution duration  296.996209  \n",
       "3   Query and histogram execution duration  300.949789  \n",
       "4   Query and histogram execution duration  300.949789  \n",
       "5   Query and histogram execution duration  298.755136  \n",
       "6   Query and histogram execution duration  298.755136  \n",
       "7   Query and histogram execution duration  285.426045  \n",
       "8   Query and histogram execution duration  269.862586  \n",
       "9   Query and histogram execution duration  269.862586  \n",
       "10  Query and histogram execution duration  271.181604  \n",
       "11  Query and histogram execution duration  271.181604  \n",
       "12  Query and histogram execution duration  274.789916  \n",
       "13  Query and histogram execution duration  274.789916  \n",
       "14  Query and histogram execution duration  480.828527  \n",
       "15  Query and histogram execution duration  319.212462  \n",
       "16  Query and histogram execution duration  319.212462  \n",
       "17  Query and histogram execution duration  321.525227  \n",
       "18  Query and histogram execution duration  321.525227  \n",
       "19  Query and histogram execution duration  320.248177  \n",
       "20  Query and histogram execution duration  320.248177  \n",
       "21                Query execution duration  433.896868  \n",
       "22                          No_of_executes  390.000000  \n",
       "23  Query and histogram execution duration  500.299323  \n",
       "24                Query execution duration  272.809195  \n",
       "25                          No_of_executes   78.000000  \n",
       "26  Query and histogram execution duration  279.350319  \n",
       "27                Query execution duration  268.511827  \n",
       "28                          No_of_executes   39.000000  \n",
       "29  Query and histogram execution duration  271.786368  \n",
       "30                Query execution duration  295.674587  \n",
       "31                          No_of_executes    7.000000  \n",
       "32  Query and histogram execution duration  296.267628  "
      ]
     },
     "execution_count": 155,
     "metadata": {},
     "output_type": "execute_result"
    }
   ],
   "source": [
    "temp = sensitivity_df.set_index('Test type')\n",
    "temp = temp.loc[['No histogram ','Perfect histogram ','Stale histogram ','Plugin rule 2']]\n",
    "temp = temp[~temp['Supplied parameters'].isin(['Not applicable'])]\n",
    "temp=temp.astype({'Supplied parameters': 'float'})\n",
    "holder = temp.groupby('Test type')\n",
    "holder = holder.apply(lambda x: x['Supplied parameters'].unique())\n",
    "unique_params_we_want_to_use = holder.loc[rule].tolist()\n",
    "temp = temp.loc[temp['Supplied parameters'].isin(unique_params_we_want_to_use)].reset_index()\n",
    "temp.head(500)"
   ]
  },
  {
   "cell_type": "markdown",
   "metadata": {},
   "source": [
    "# Average q-ratio, må kanskje endre slik at vi lager en q-ratio for hvert sett med parameter verdier , Ser ut som at denne kanskje er litt feil, se på q-ratio...#"
   ]
  },
  {
   "cell_type": "code",
   "execution_count": null,
   "metadata": {},
   "outputs": [],
   "source": [
    "q_ratio_df = result_df.groupby(['Test type','Supplied parameters']).sum().reset_index()\n",
    "q_ratio_df = q_ratio_df[['Test type','Duration','Supplied parameters']]\n",
    "q_ratio_df = q_ratio_df.groupby(['Test type']).mean().reset_index()\n",
    "q_ratio_df['Q-ratio']=q_ratio_df['Duration'].apply(lambda x: x/q_ratio_df['Duration'].loc[q_ratio_df['Test type']=='Perfect histogram '], 0)\n",
    "q_ratio_df = q_ratio_df.sort_values('Q-ratio')\n",
    "#q_ratio_df.head(100)\n",
    "\n",
    "hist_result_df=hist_result_df.astype({'No_of_executes': 'int32'})\n",
    "histogram_data = hist_result_df.groupby(['Test type','Supplied parameters'])['Duration','No_of_executes'].sum().reset_index()\n",
    "histogram_data = histogram_data.groupby(['Test type']).mean().reset_index()\n",
    "histogram_data=histogram_data.rename(columns={\"Duration\": \"Time spent computing histograms (s)\", \"No_of_executes\": \"Number of histogram udpates/creates\"})\n",
    "#histogram_data.head(50)\n",
    "\n",
    "merged_df = q_ratio_df.merge(histogram_data, how = 'outer', on = ['Test type'])\n",
    "merged_df = merged_df.fillna(0)\n",
    "merged_df = merged_df.astype({'Number of histogram udpates/creates':'int32'})\n",
    "merged_df.head(50)"
   ]
  },
  {
   "cell_type": "code",
   "execution_count": 145,
   "metadata": {},
   "outputs": [
    {
     "data": {
      "text/html": [
       "<div>\n",
       "<style scoped>\n",
       "    .dataframe tbody tr th:only-of-type {\n",
       "        vertical-align: middle;\n",
       "    }\n",
       "\n",
       "    .dataframe tbody tr th {\n",
       "        vertical-align: top;\n",
       "    }\n",
       "\n",
       "    .dataframe thead th {\n",
       "        text-align: right;\n",
       "    }\n",
       "</style>\n",
       "<table border=\"1\" class=\"dataframe\">\n",
       "  <thead>\n",
       "    <tr style=\"text-align: right;\">\n",
       "      <th></th>\n",
       "      <th>Test type</th>\n",
       "      <th>Query execution duration</th>\n",
       "      <th>Histogram execution duration</th>\n",
       "      <th>Number of histogram udpates/creates</th>\n",
       "      <th>Total duration</th>\n",
       "      <th>Supplied parameters</th>\n",
       "      <th>Q-ratio</th>\n",
       "    </tr>\n",
       "  </thead>\n",
       "  <tbody>\n",
       "    <tr>\n",
       "      <td>16</td>\n",
       "      <td>Plugin rule 6</td>\n",
       "      <td>267.094430</td>\n",
       "      <td>3.307501</td>\n",
       "      <td>55.0</td>\n",
       "      <td>270.401931</td>\n",
       "      <td>0.1</td>\n",
       "      <td>0.982155</td>\n",
       "    </tr>\n",
       "    <tr>\n",
       "      <td>9</td>\n",
       "      <td>Plugin rule 2</td>\n",
       "      <td>268.511827</td>\n",
       "      <td>3.274541</td>\n",
       "      <td>39.0</td>\n",
       "      <td>271.786368</td>\n",
       "      <td>100000</td>\n",
       "      <td>0.987183</td>\n",
       "    </tr>\n",
       "    <tr>\n",
       "      <td>14</td>\n",
       "      <td>Plugin rule 3</td>\n",
       "      <td>268.953461</td>\n",
       "      <td>3.280519</td>\n",
       "      <td>39.0</td>\n",
       "      <td>272.233980</td>\n",
       "      <td>500000</td>\n",
       "      <td>0.988809</td>\n",
       "    </tr>\n",
       "    <tr>\n",
       "      <td>18</td>\n",
       "      <td>Plugin rule 6</td>\n",
       "      <td>270.260807</td>\n",
       "      <td>3.306000</td>\n",
       "      <td>55.0</td>\n",
       "      <td>273.566807</td>\n",
       "      <td>0.9</td>\n",
       "      <td>0.993650</td>\n",
       "    </tr>\n",
       "    <tr>\n",
       "      <td>26</td>\n",
       "      <td>Plugin rule 9</td>\n",
       "      <td>272.323269</td>\n",
       "      <td>1.595539</td>\n",
       "      <td>19.0</td>\n",
       "      <td>273.918808</td>\n",
       "      <td>0.90 0.2 500000</td>\n",
       "      <td>0.994929</td>\n",
       "    </tr>\n",
       "    <tr>\n",
       "      <td>17</td>\n",
       "      <td>Plugin rule 6</td>\n",
       "      <td>271.513497</td>\n",
       "      <td>3.312466</td>\n",
       "      <td>55.0</td>\n",
       "      <td>274.825963</td>\n",
       "      <td>0.5</td>\n",
       "      <td>0.998224</td>\n",
       "    </tr>\n",
       "    <tr>\n",
       "      <td>1</td>\n",
       "      <td>Perfect histogram</td>\n",
       "      <td>273.589126</td>\n",
       "      <td>1.725912</td>\n",
       "      <td>20.0</td>\n",
       "      <td>275.315038</td>\n",
       "      <td>Not applicable</td>\n",
       "      <td>1.000000</td>\n",
       "    </tr>\n",
       "    <tr>\n",
       "      <td>8</td>\n",
       "      <td>Plugin rule 2</td>\n",
       "      <td>272.809195</td>\n",
       "      <td>6.541124</td>\n",
       "      <td>78.0</td>\n",
       "      <td>279.350319</td>\n",
       "      <td>50000</td>\n",
       "      <td>1.014657</td>\n",
       "    </tr>\n",
       "    <tr>\n",
       "      <td>25</td>\n",
       "      <td>Plugin rule 9</td>\n",
       "      <td>268.891475</td>\n",
       "      <td>11.199573</td>\n",
       "      <td>134.0</td>\n",
       "      <td>280.091048</td>\n",
       "      <td>0.5 2 100000</td>\n",
       "      <td>1.017347</td>\n",
       "    </tr>\n",
       "    <tr>\n",
       "      <td>15</td>\n",
       "      <td>Plugin rule 6</td>\n",
       "      <td>280.163513</td>\n",
       "      <td>3.480615</td>\n",
       "      <td>55.0</td>\n",
       "      <td>283.644128</td>\n",
       "      <td>0.05</td>\n",
       "      <td>1.030253</td>\n",
       "    </tr>\n",
       "    <tr>\n",
       "      <td>13</td>\n",
       "      <td>Plugin rule 3</td>\n",
       "      <td>270.099175</td>\n",
       "      <td>16.147034</td>\n",
       "      <td>195.0</td>\n",
       "      <td>286.246209</td>\n",
       "      <td>100000</td>\n",
       "      <td>1.039704</td>\n",
       "    </tr>\n",
       "    <tr>\n",
       "      <td>10</td>\n",
       "      <td>Plugin rule 2</td>\n",
       "      <td>295.674587</td>\n",
       "      <td>0.593041</td>\n",
       "      <td>7.0</td>\n",
       "      <td>296.267628</td>\n",
       "      <td>500000</td>\n",
       "      <td>1.076104</td>\n",
       "    </tr>\n",
       "    <tr>\n",
       "      <td>4</td>\n",
       "      <td>Plugin rule 0</td>\n",
       "      <td>297.061350</td>\n",
       "      <td>0.000000</td>\n",
       "      <td>0.0</td>\n",
       "      <td>297.061350</td>\n",
       "      <td>100000 0.5</td>\n",
       "      <td>1.078987</td>\n",
       "    </tr>\n",
       "    <tr>\n",
       "      <td>5</td>\n",
       "      <td>Plugin rule 0</td>\n",
       "      <td>297.802500</td>\n",
       "      <td>0.000000</td>\n",
       "      <td>0.0</td>\n",
       "      <td>297.802500</td>\n",
       "      <td>50000 0.1</td>\n",
       "      <td>1.081679</td>\n",
       "    </tr>\n",
       "    <tr>\n",
       "      <td>6</td>\n",
       "      <td>Plugin rule 0</td>\n",
       "      <td>298.203797</td>\n",
       "      <td>0.000000</td>\n",
       "      <td>0.0</td>\n",
       "      <td>298.203797</td>\n",
       "      <td>500000 0.90</td>\n",
       "      <td>1.083137</td>\n",
       "    </tr>\n",
       "    <tr>\n",
       "      <td>12</td>\n",
       "      <td>Plugin rule 3</td>\n",
       "      <td>268.404051</td>\n",
       "      <td>32.366028</td>\n",
       "      <td>390.0</td>\n",
       "      <td>300.770079</td>\n",
       "      <td>50000</td>\n",
       "      <td>1.092458</td>\n",
       "    </tr>\n",
       "    <tr>\n",
       "      <td>0</td>\n",
       "      <td>No histogram</td>\n",
       "      <td>326.014732</td>\n",
       "      <td>0.000000</td>\n",
       "      <td>0.0</td>\n",
       "      <td>326.014732</td>\n",
       "      <td>Not applicable</td>\n",
       "      <td>1.184152</td>\n",
       "    </tr>\n",
       "    <tr>\n",
       "      <td>24</td>\n",
       "      <td>Plugin rule 9</td>\n",
       "      <td>265.722202</td>\n",
       "      <td>81.275145</td>\n",
       "      <td>989.0</td>\n",
       "      <td>346.997347</td>\n",
       "      <td>0.1 20 50000</td>\n",
       "      <td>1.260365</td>\n",
       "    </tr>\n",
       "    <tr>\n",
       "      <td>19</td>\n",
       "      <td>Plugin rule 7</td>\n",
       "      <td>347.591217</td>\n",
       "      <td>0.170344</td>\n",
       "      <td>2.0</td>\n",
       "      <td>347.761561</td>\n",
       "      <td>0.2</td>\n",
       "      <td>1.263140</td>\n",
       "    </tr>\n",
       "    <tr>\n",
       "      <td>2</td>\n",
       "      <td>Stale histogram</td>\n",
       "      <td>360.363467</td>\n",
       "      <td>0.090131</td>\n",
       "      <td>1.0</td>\n",
       "      <td>360.453598</td>\n",
       "      <td>Not applicable</td>\n",
       "      <td>1.309241</td>\n",
       "    </tr>\n",
       "    <tr>\n",
       "      <td>7</td>\n",
       "      <td>Plugin rule 2</td>\n",
       "      <td>433.896868</td>\n",
       "      <td>66.402455</td>\n",
       "      <td>390.0</td>\n",
       "      <td>500.299323</td>\n",
       "      <td>10000</td>\n",
       "      <td>1.817189</td>\n",
       "    </tr>\n",
       "    <tr>\n",
       "      <td>11</td>\n",
       "      <td>Plugin rule 3</td>\n",
       "      <td>315.836989</td>\n",
       "      <td>223.573505</td>\n",
       "      <td>1950.0</td>\n",
       "      <td>539.410494</td>\n",
       "      <td>10000</td>\n",
       "      <td>1.959248</td>\n",
       "    </tr>\n",
       "    <tr>\n",
       "      <td>3</td>\n",
       "      <td>Plugin rule 0</td>\n",
       "      <td>734.782938</td>\n",
       "      <td>0.000000</td>\n",
       "      <td>0.0</td>\n",
       "      <td>734.782938</td>\n",
       "      <td>10000 0.05</td>\n",
       "      <td>2.668881</td>\n",
       "    </tr>\n",
       "    <tr>\n",
       "      <td>20</td>\n",
       "      <td>Plugin rule 7</td>\n",
       "      <td>268.680162</td>\n",
       "      <td>682.056757</td>\n",
       "      <td>8189.0</td>\n",
       "      <td>950.736919</td>\n",
       "      <td>2</td>\n",
       "      <td>3.453269</td>\n",
       "    </tr>\n",
       "    <tr>\n",
       "      <td>21</td>\n",
       "      <td>Plugin rule 7</td>\n",
       "      <td>267.942421</td>\n",
       "      <td>1081.582593</td>\n",
       "      <td>13187.0</td>\n",
       "      <td>1349.525014</td>\n",
       "      <td>20</td>\n",
       "      <td>4.901748</td>\n",
       "    </tr>\n",
       "    <tr>\n",
       "      <td>23</td>\n",
       "      <td>Plugin rule 9</td>\n",
       "      <td>269.019501</td>\n",
       "      <td>6522.375435</td>\n",
       "      <td>79846.0</td>\n",
       "      <td>6791.394936</td>\n",
       "      <td>0.05 200 5000</td>\n",
       "      <td>24.667722</td>\n",
       "    </tr>\n",
       "    <tr>\n",
       "      <td>22</td>\n",
       "      <td>Plugin rule 7</td>\n",
       "      <td>269.034221</td>\n",
       "      <td>12829.251727</td>\n",
       "      <td>155496.0</td>\n",
       "      <td>13098.285948</td>\n",
       "      <td>200</td>\n",
       "      <td>47.575628</td>\n",
       "    </tr>\n",
       "  </tbody>\n",
       "</table>\n",
       "</div>"
      ],
      "text/plain": [
       "             Test type  Query execution duration  \\\n",
       "16       Plugin rule 6                267.094430   \n",
       "9        Plugin rule 2                268.511827   \n",
       "14       Plugin rule 3                268.953461   \n",
       "18       Plugin rule 6                270.260807   \n",
       "26       Plugin rule 9                272.323269   \n",
       "17       Plugin rule 6                271.513497   \n",
       "1   Perfect histogram                 273.589126   \n",
       "8        Plugin rule 2                272.809195   \n",
       "25       Plugin rule 9                268.891475   \n",
       "15       Plugin rule 6                280.163513   \n",
       "13       Plugin rule 3                270.099175   \n",
       "10       Plugin rule 2                295.674587   \n",
       "4        Plugin rule 0                297.061350   \n",
       "5        Plugin rule 0                297.802500   \n",
       "6        Plugin rule 0                298.203797   \n",
       "12       Plugin rule 3                268.404051   \n",
       "0        No histogram                 326.014732   \n",
       "24       Plugin rule 9                265.722202   \n",
       "19       Plugin rule 7                347.591217   \n",
       "2     Stale histogram                 360.363467   \n",
       "7        Plugin rule 2                433.896868   \n",
       "11       Plugin rule 3                315.836989   \n",
       "3        Plugin rule 0                734.782938   \n",
       "20       Plugin rule 7                268.680162   \n",
       "21       Plugin rule 7                267.942421   \n",
       "23       Plugin rule 9                269.019501   \n",
       "22       Plugin rule 7                269.034221   \n",
       "\n",
       "    Histogram execution duration  Number of histogram udpates/creates  \\\n",
       "16                      3.307501                                 55.0   \n",
       "9                       3.274541                                 39.0   \n",
       "14                      3.280519                                 39.0   \n",
       "18                      3.306000                                 55.0   \n",
       "26                      1.595539                                 19.0   \n",
       "17                      3.312466                                 55.0   \n",
       "1                       1.725912                                 20.0   \n",
       "8                       6.541124                                 78.0   \n",
       "25                     11.199573                                134.0   \n",
       "15                      3.480615                                 55.0   \n",
       "13                     16.147034                                195.0   \n",
       "10                      0.593041                                  7.0   \n",
       "4                       0.000000                                  0.0   \n",
       "5                       0.000000                                  0.0   \n",
       "6                       0.000000                                  0.0   \n",
       "12                     32.366028                                390.0   \n",
       "0                       0.000000                                  0.0   \n",
       "24                     81.275145                                989.0   \n",
       "19                      0.170344                                  2.0   \n",
       "2                       0.090131                                  1.0   \n",
       "7                      66.402455                                390.0   \n",
       "11                    223.573505                               1950.0   \n",
       "3                       0.000000                                  0.0   \n",
       "20                    682.056757                               8189.0   \n",
       "21                   1081.582593                              13187.0   \n",
       "23                   6522.375435                              79846.0   \n",
       "22                  12829.251727                             155496.0   \n",
       "\n",
       "    Total duration Supplied parameters    Q-ratio  \n",
       "16      270.401931                 0.1   0.982155  \n",
       "9       271.786368              100000   0.987183  \n",
       "14      272.233980              500000   0.988809  \n",
       "18      273.566807                 0.9   0.993650  \n",
       "26      273.918808     0.90 0.2 500000   0.994929  \n",
       "17      274.825963                 0.5   0.998224  \n",
       "1       275.315038      Not applicable   1.000000  \n",
       "8       279.350319               50000   1.014657  \n",
       "25      280.091048        0.5 2 100000   1.017347  \n",
       "15      283.644128                0.05   1.030253  \n",
       "13      286.246209              100000   1.039704  \n",
       "10      296.267628              500000   1.076104  \n",
       "4       297.061350          100000 0.5   1.078987  \n",
       "5       297.802500           50000 0.1   1.081679  \n",
       "6       298.203797         500000 0.90   1.083137  \n",
       "12      300.770079               50000   1.092458  \n",
       "0       326.014732      Not applicable   1.184152  \n",
       "24      346.997347        0.1 20 50000   1.260365  \n",
       "19      347.761561                 0.2   1.263140  \n",
       "2       360.453598      Not applicable   1.309241  \n",
       "7       500.299323               10000   1.817189  \n",
       "11      539.410494               10000   1.959248  \n",
       "3       734.782938          10000 0.05   2.668881  \n",
       "20      950.736919                   2   3.453269  \n",
       "21     1349.525014                  20   4.901748  \n",
       "23     6791.394936       0.05 200 5000  24.667722  \n",
       "22    13098.285948                 200  47.575628  "
      ]
     },
     "execution_count": 145,
     "metadata": {},
     "output_type": "execute_result"
    }
   ],
   "source": [
    "#neste forsøk på Q-ratio\n",
    "q_ratio_df=df_5.loc[df_5['Test type'].isin(['No histogram ','Perfect histogram ','Stale histogram '])].groupby(['Test type']).mean().reset_index()\n",
    "q_ratio_df['Supplied parameters'] = 'Not applicable'\n",
    "q_ratio_df = q_ratio_df.append(df_5.loc[~df_5['Test type'].isin(['No histogram ','Perfect histogram ','Stale histogram '])],ignore_index=True,sort=False)\n",
    "q_ratio_df = q_ratio_df[['Test type','Query execution duration','Histogram execution duration','No_of_executes','Query and histogram execution duration','Supplied parameters']]\n",
    "q_ratio_df=q_ratio_df.rename(columns={\"Query and histogram execution duration\": \"Total duration\", \"No_of_executes\": \"Number of histogram udpates/creates\"})\n",
    "q_ratio_df['Q-ratio']=q_ratio_df['Total duration'].apply(lambda x: x/q_ratio_df['Total duration'].loc[q_ratio_df['Test type']=='Perfect histogram '], 0)\n",
    "q_ratio_df = q_ratio_df.sort_values('Q-ratio')\n",
    "q_ratio_df.head(500)"
   ]
  },
  {
   "cell_type": "code",
   "execution_count": 47,
   "metadata": {},
   "outputs": [
    {
     "data": {
      "text/html": [
       "<div>\n",
       "<style scoped>\n",
       "    .dataframe tbody tr th:only-of-type {\n",
       "        vertical-align: middle;\n",
       "    }\n",
       "\n",
       "    .dataframe tbody tr th {\n",
       "        vertical-align: top;\n",
       "    }\n",
       "\n",
       "    .dataframe thead th {\n",
       "        text-align: right;\n",
       "    }\n",
       "</style>\n",
       "<table border=\"1\" class=\"dataframe\">\n",
       "  <thead>\n",
       "    <tr style=\"text-align: right;\">\n",
       "      <th></th>\n",
       "      <th>Test type</th>\n",
       "      <th>Supplied parameters</th>\n",
       "      <th>Duration type</th>\n",
       "      <th>Duration</th>\n",
       "    </tr>\n",
       "  </thead>\n",
       "  <tbody>\n",
       "    <tr>\n",
       "      <td>0</td>\n",
       "      <td>Plugin rule 0</td>\n",
       "      <td>10000 0.05</td>\n",
       "      <td>Query execution duration</td>\n",
       "      <td>734.782938</td>\n",
       "    </tr>\n",
       "    <tr>\n",
       "      <td>2</td>\n",
       "      <td>Plugin rule 0</td>\n",
       "      <td>10000 0.05</td>\n",
       "      <td>Query and histogram execution duration</td>\n",
       "      <td>734.782938</td>\n",
       "    </tr>\n",
       "    <tr>\n",
       "      <td>3</td>\n",
       "      <td>Plugin rule 0</td>\n",
       "      <td>100000 0.5</td>\n",
       "      <td>Query execution duration</td>\n",
       "      <td>297.061350</td>\n",
       "    </tr>\n",
       "    <tr>\n",
       "      <td>5</td>\n",
       "      <td>Plugin rule 0</td>\n",
       "      <td>100000 0.5</td>\n",
       "      <td>Query and histogram execution duration</td>\n",
       "      <td>297.061350</td>\n",
       "    </tr>\n",
       "    <tr>\n",
       "      <td>6</td>\n",
       "      <td>Plugin rule 0</td>\n",
       "      <td>50000 0.1</td>\n",
       "      <td>Query execution duration</td>\n",
       "      <td>297.802500</td>\n",
       "    </tr>\n",
       "    <tr>\n",
       "      <td>...</td>\n",
       "      <td>...</td>\n",
       "      <td>...</td>\n",
       "      <td>...</td>\n",
       "      <td>...</td>\n",
       "    </tr>\n",
       "    <tr>\n",
       "      <td>209</td>\n",
       "      <td>Stale histogram</td>\n",
       "      <td>20</td>\n",
       "      <td>Query execution duration</td>\n",
       "      <td>321.437508</td>\n",
       "    </tr>\n",
       "    <tr>\n",
       "      <td>220</td>\n",
       "      <td>Stale histogram</td>\n",
       "      <td>500000</td>\n",
       "      <td>Query execution duration</td>\n",
       "      <td>320.157960</td>\n",
       "    </tr>\n",
       "    <tr>\n",
       "      <td>221</td>\n",
       "      <td>Stale histogram</td>\n",
       "      <td>500000</td>\n",
       "      <td>Query execution duration</td>\n",
       "      <td>320.157960</td>\n",
       "    </tr>\n",
       "    <tr>\n",
       "      <td>222</td>\n",
       "      <td>Stale histogram</td>\n",
       "      <td>0.90</td>\n",
       "      <td>Query execution duration</td>\n",
       "      <td>320.157960</td>\n",
       "    </tr>\n",
       "    <tr>\n",
       "      <td>223</td>\n",
       "      <td>Stale histogram</td>\n",
       "      <td>0.2</td>\n",
       "      <td>Query execution duration</td>\n",
       "      <td>320.157960</td>\n",
       "    </tr>\n",
       "  </tbody>\n",
       "</table>\n",
       "<p>96 rows × 4 columns</p>\n",
       "</div>"
      ],
      "text/plain": [
       "            Test type Supplied parameters  \\\n",
       "0       Plugin rule 0          10000 0.05   \n",
       "2       Plugin rule 0          10000 0.05   \n",
       "3       Plugin rule 0          100000 0.5   \n",
       "5       Plugin rule 0          100000 0.5   \n",
       "6       Plugin rule 0           50000 0.1   \n",
       "..                ...                 ...   \n",
       "209  Stale histogram                   20   \n",
       "220  Stale histogram               500000   \n",
       "221  Stale histogram               500000   \n",
       "222  Stale histogram                 0.90   \n",
       "223  Stale histogram                  0.2   \n",
       "\n",
       "                              Duration type    Duration  \n",
       "0                  Query execution duration  734.782938  \n",
       "2    Query and histogram execution duration  734.782938  \n",
       "3                  Query execution duration  297.061350  \n",
       "5    Query and histogram execution duration  297.061350  \n",
       "6                  Query execution duration  297.802500  \n",
       "..                                      ...         ...  \n",
       "209                Query execution duration  321.437508  \n",
       "220                Query execution duration  320.157960  \n",
       "221                Query execution duration  320.157960  \n",
       "222                Query execution duration  320.157960  \n",
       "223                Query execution duration  320.157960  \n",
       "\n",
       "[96 rows x 4 columns]"
      ]
     },
     "execution_count": 47,
     "metadata": {},
     "output_type": "execute_result"
    }
   ],
   "source": [
    "sensitivity_df.head(500)#df_5.head(500)\n",
    "sensitivity_df[sensitivity_df['Duration type'].isin(['No_of_executes'])]"
   ]
  },
  {
   "cell_type": "code",
   "execution_count": null,
   "metadata": {},
   "outputs": [],
   "source": [
    "##Working og gettign the data we want to create our standard query execution times plots for\n",
    "xlabels = ['{:,.4f}'.format(float(re.sub(\"\\D\", \"\", str(x)))) for x in  ['r=0.1','r=0.2','r=0.4']]\n",
    "a = [re.sub(\"\\d\", \"\", x) for x in ['r=0.1','r=0.2','r=0.4']]\n",
    "print (xlabels)\n",
    "print(ax1.get_xticklabels())"
   ]
  },
  {
   "cell_type": "code",
   "execution_count": null,
   "metadata": {},
   "outputs": [],
   "source": [
    "x='aaa12333bb445bb54b5b52'\n",
    "import re\n",
    "re.sub(\"\\D\", \"\", \"aas30dsa20\")"
   ]
  },
  {
   "cell_type": "code",
   "execution_count": null,
   "metadata": {},
   "outputs": [],
   "source": [
    "df_1 = sensitivity_df.loc[sensitivity_df['Test type'].isin(['Plugin rule 9'])]\n",
    "\n",
    "df_1 = df_1.append([df_1]*2,ignore_index=True)\n",
    "df_1.at[0,'Supplied parameters'] = 'bw=2 I=50000'\n",
    "df_1.at[1,'Supplied parameters'] = 'bw=2 I=50000'\n",
    "df_1.at[2,'Supplied parameters'] = 'bw=200000 I=5'\n",
    "df_1.at[3,'Supplied parameters'] = 'bw=200000 I=5'\n",
    "df_1.at[4,'Supplied parameters'] = 'bw=20 I=50000'\n",
    "df_1.at[5,'Supplied parameters'] = 'bw=20 I=50000'\n",
    "df_1.at[6,'Supplied parameters'] = 'bw=200000 I=500'\n",
    "df_1.at[7,'Supplied parameters'] = 'bw=200000 I=500'\n",
    "df_1.at[8,'Supplied parameters'] = 'bw=200000 I=50'\n",
    "df_1.at[9,'Supplied parameters'] = 'bw=200000 I=50'\n",
    "df_1.at[10,'Supplied parameters'] = 'bw=200000 I=5'\n",
    "df_1.at[11,'Supplied parameters'] = 'bw=200000 I=5'\n",
    "df_1=df_1.set_index(['Test type','Duration type','Duration'])\n",
    "\n",
    "df_2 = pa.DataFrame(df_1['Supplied parameters'].str.split(' ',1).tolist(),index = df_1.index,columns=['param_1','param_2'])\n",
    "df_1 = df_1.reset_index()\n",
    "df_2=df_2.reset_index()\n",
    "data_for_now = df_2.groupby(['param_1'])\n",
    "data_for_now.head(500)"
   ]
  },
  {
   "cell_type": "code",
   "execution_count": null,
   "metadata": {},
   "outputs": [],
   "source": [
    "fig = plt.figure(figsize=(13,9))\n",
    "gs = gridspec.GridSpec(nrows=4, \n",
    "                   ncols=1, \n",
    "                   figure=fig, \n",
    "                   height_ratios=[1, 1, 1, 1],\n",
    "                   wspace=0.3,\n",
    "                   hspace=0.3)\n",
    "ax1 = fig.add_subplot(gs[1:3,0])\n",
    "sns.lineplot(x=\"param_1\", y=\"Duration\",\n",
    "             markers=True, hue = 'param_2', style = 'Duration type',\n",
    "             data=df_2,ax=ax1)\n",
    "ax1.set_ylabel(\"Duration (s)\")\n",
    "#xlabels = ['{:,.4f}'.format(float(re.sub(\"\\D\", \"\", str(x)))) for x in ax1.get_xticks()]\n",
    "#ax1.set_xticklabels(xlabels)\n",
    "ax1.set_xlabel(\"Outside boundary weight parameter\")\n",
    "\n",
    "fig = plt.figure(figsize=(13,9))\n",
    "gs = gridspec.GridSpec(nrows=4, \n",
    "                   ncols=1, \n",
    "                   figure=fig, \n",
    "                   height_ratios=[1, 1, 1, 1],\n",
    "                   wspace=0.3,\n",
    "                   hspace=0.3)\n",
    "ax1 = fig.add_subplot(gs[1:3,0])\n",
    "sns.lineplot(x=\"Supplied parameters\", y=\"Duration\",\n",
    "             markers=True, hue = 'Test type', style = 'Duration type',\n",
    "             data=df_1,ax=ax1)\n",
    "ax1.set_ylabel(\"Duration (s)\")\n",
    "#xlabels = ['{:,.4f}'.format(float(re.sub(\"\\D\", \"\", str(x)))) for x in ax1.get_xticks()]\n",
    "#ax1.set_xticklabels(xlabels)\n",
    "ax1.set_xlabel(\"Supplied parameters\")"
   ]
  },
  {
   "cell_type": "code",
   "execution_count": null,
   "metadata": {},
   "outputs": [],
   "source": [
    "fig = plt.figure(figsize=(9,6))\n",
    "ax3=sns.barplot(x=\"Test type\", y=\"Duration\",hue=\"Test type\", data=hist_result_df[hist_result_df['Test type'].isin(['No histogram ','Perfect histogram ','Stale histogram '])], estimator=sum,ci=None,dodge = False )#,color=sns.xkcd_rgb[\"orange\"])\n",
    "ax3.set_xticklabels(\"\")\n",
    "ax3.set_xlabel(\"\")\n",
    "ax3.set_ylabel(\"Duration (s)\")\n",
    "hist_timing_plt = plt.gcf()\n",
    "hist_timing_plt.savefig(\"/export/home/tmp/Dropbox/Apper/ShareLaTeX/Master/eval_plots/histogram_timing_base.png\",dpi=360,bbox_inches='tight')"
   ]
  },
  {
   "cell_type": "code",
   "execution_count": null,
   "metadata": {},
   "outputs": [],
   "source": [
    "fig = plt.figure(figsize=(9,6))\n",
    "ax3=sns.barplot(x=\"Test type\", y=\"Duration\",hue=\"Test type\", data=hist_result_df, estimator=sum,ci=None,dodge = False )#,color=sns.xkcd_rgb[\"orange\"])\n",
    "ax3.set_xticklabels(\"\")\n",
    "ax3.set_xlabel(\"\")\n",
    "ax3.set_ylabel(\"Duration (s)\")"
   ]
  },
  {
   "cell_type": "code",
   "execution_count": null,
   "metadata": {},
   "outputs": [],
   "source": [
    "sns.palplot(sns.color_palette(\"Paired\", 9))"
   ]
  },
  {
   "cell_type": "code",
   "execution_count": null,
   "metadata": {},
   "outputs": [],
   "source": [
    "new_map = ['#e41a1c','#377eb8','#4daf4a','#984ea3','#ff7f00','#ffff33','#a65628','#f781bf','#999999']\n",
    "sns.palplot(sns.color_palette(new_map))"
   ]
  },
  {
   "cell_type": "code",
   "execution_count": null,
   "metadata": {},
   "outputs": [],
   "source": [
    "d = {'Fixed data without Histograms': result_0_df, 'Fixed data with Histograms': result_1_df}\n",
    "temp=pa.concat(d,axis=1)\n",
    "temp=temp.transpose().drop(index='Average',level=1)\n",
    "temp = temp.drop(index='Returned rows',level=1)\n",
    "#temp = temp.drop(index='Query',level=1)\n",
    "temp2=pa.concat([result_0_df,result_1_df],join='inner',axis=1)\n",
    "temp2=temp2.drop(columns='Average')"
   ]
  },
  {
   "cell_type": "code",
   "execution_count": null,
   "metadata": {},
   "outputs": [],
   "source": [
    "1002%1000"
   ]
  },
  {
   "cell_type": "code",
   "execution_count": null,
   "metadata": {},
   "outputs": [],
   "source": [
    "temp"
   ]
  },
  {
   "cell_type": "code",
   "execution_count": null,
   "metadata": {},
   "outputs": [],
   "source": [
    "temp.unstack(level=0)"
   ]
  },
  {
   "cell_type": "code",
   "execution_count": null,
   "metadata": {},
   "outputs": [],
   "source": [
    "temp.unstack(level=0).transpose()"
   ]
  },
  {
   "cell_type": "code",
   "execution_count": null,
   "metadata": {},
   "outputs": [],
   "source": [
    "plt.errorbar(temp.unstack(level=0)[8].transpose()['Adjusted average'],temp.unstack(level=0)[8].transpose()['Standard Deviation'])"
   ]
  },
  {
   "cell_type": "code",
   "execution_count": null,
   "metadata": {},
   "outputs": [],
   "source": [
    "plt.errorbar([1,2,3,4,5,6,7],[1,2,3,4,5,6,7],yerr=2)"
   ]
  },
  {
   "cell_type": "code",
   "execution_count": null,
   "metadata": {},
   "outputs": [],
   "source": [
    "midx = pa.MultiIndex(levels=[['zero', 'one'], ['x', 'y']],\n",
    "   ....:                      codes=[[1, 1, 0, 0], [1, 0, 1, 0]])\n",
    "df = pa.DataFrame(np.random.randn(4, 2), index=midx)"
   ]
  },
  {
   "cell_type": "code",
   "execution_count": null,
   "metadata": {},
   "outputs": [],
   "source": [
    "df.transpose()"
   ]
  },
  {
   "cell_type": "code",
   "execution_count": null,
   "metadata": {},
   "outputs": [],
   "source": [
    "df.transpose().plot.box()"
   ]
  },
  {
   "cell_type": "code",
   "execution_count": null,
   "metadata": {},
   "outputs": [],
   "source": [
    "midx = pa.MultiIndex(levels=[['without_histogram', 'with_histogram'], ['q1', 'q2', 'q3']],\n",
    "   ....:                      codes=[[1, 1, 0, 0], [1, 0, 1, 0]])\n",
    "df = pa.DataFrame(np.random.randn(4, 4), index=midx)"
   ]
  },
  {
   "cell_type": "code",
   "execution_count": null,
   "metadata": {},
   "outputs": [],
   "source": [
    "df"
   ]
  },
  {
   "cell_type": "code",
   "execution_count": null,
   "metadata": {},
   "outputs": [],
   "source": [
    "\n",
    "iterables = [['without_histogram','with_histogram'], ['q1', 'q2','q3'],['r1','r2','r3','r4','r5','r6','r7','r8']]\n",
    "\n",
    "mindex=pa.MultiIndex.from_product(iterables, names=['Test type', 'Query','Run#'])\n",
    "df = pa.DataFrame(np.random.randn(48), index=mindex)\n",
    "df"
   ]
  },
  {
   "cell_type": "code",
   "execution_count": null,
   "metadata": {},
   "outputs": [],
   "source": [
    "df.unstack(level=1).plot.box()"
   ]
  },
  {
   "cell_type": "code",
   "execution_count": null,
   "metadata": {},
   "outputs": [],
   "source": [
    "df.unstack(level=1)"
   ]
  },
  {
   "cell_type": "code",
   "execution_count": null,
   "metadata": {},
   "outputs": [],
   "source": [
    "series=result_0_df.drop(columns=['Average','Standard Deviation','Returned rows','Query'])\n",
    "series.set_index('Adjusted average')\n",
    "series.dtypes\n",
    "\n",
    "result=pa.DataFrame(result_tot_df['Adjusted average'].values, index=mindex)"
   ]
  },
  {
   "cell_type": "code",
   "execution_count": null,
   "metadata": {},
   "outputs": [],
   "source": [
    "result"
   ]
  },
  {
   "cell_type": "code",
   "execution_count": null,
   "metadata": {},
   "outputs": [],
   "source": [
    "result.unstack(level=[0,1]).boxplot()"
   ]
  },
  {
   "cell_type": "code",
   "execution_count": null,
   "metadata": {},
   "outputs": [],
   "source": [
    "result.unstack(level=[1])"
   ]
  },
  {
   "cell_type": "code",
   "execution_count": null,
   "metadata": {},
   "outputs": [],
   "source": [
    "result"
   ]
  },
  {
   "cell_type": "code",
   "execution_count": null,
   "metadata": {},
   "outputs": [],
   "source": [
    "df = pa.DataFrame(np.random.randn(10, 2),\n",
    "...                   columns=['Col1', 'Col2'])\n",
    ">>> df['X'] = pa.Series(['A', 'A', 'A', 'A', 'A',\n",
    "...                      'B', 'B', 'B', 'B', 'B'])\n",
    ">>> boxplot = df.boxplot(by='X')"
   ]
  },
  {
   "cell_type": "code",
   "execution_count": null,
   "metadata": {},
   "outputs": [],
   "source": [
    "df"
   ]
  },
  {
   "cell_type": "code",
   "execution_count": null,
   "metadata": {},
   "outputs": [],
   "source": [
    "np.random.seed(45)\n",
    "a = pa.DataFrame(index=range(10), \n",
    "                 columns=pa.MultiIndex.from_product(\n",
    "                         iterables=[['2000', '2010'], ['a', 'b']], \n",
    "                         names=['Year', 'Text']), \n",
    "                 data=np.random.randn(10,4))\n",
    "\n",
    "b = a.stack(level=0).reset_index(level=0, drop=True).reset_index()"
   ]
  },
  {
   "cell_type": "code",
   "execution_count": null,
   "metadata": {},
   "outputs": [],
   "source": [
    "b"
   ]
  },
  {
   "cell_type": "code",
   "execution_count": null,
   "metadata": {},
   "outputs": [],
   "source": [
    "b = a.unstack(level=0).reset_index(level=2, drop=True).reset_index(name='data')\n",
    "b.head(15)"
   ]
  },
  {
   "cell_type": "code",
   "execution_count": null,
   "metadata": {},
   "outputs": [],
   "source": [
    "a.head(15)"
   ]
  },
  {
   "cell_type": "code",
   "execution_count": null,
   "metadata": {},
   "outputs": [],
   "source": [
    "ax = sns.boxplot(x='Text', y='data', hue=\"Year\",\n",
    "                 data=b, palette=\"Set3\")"
   ]
  },
  {
   "cell_type": "code",
   "execution_count": null,
   "metadata": {},
   "outputs": [],
   "source": []
  },
  {
   "cell_type": "code",
   "execution_count": null,
   "metadata": {},
   "outputs": [],
   "source": [
    "result_tot_2_df"
   ]
  },
  {
   "cell_type": "code",
   "execution_count": null,
   "metadata": {},
   "outputs": [],
   "source": []
  }
 ],
 "metadata": {
  "kernelspec": {
   "display_name": "Python 3",
   "language": "python",
   "name": "python3"
  },
  "language_info": {
   "codemirror_mode": {
    "name": "ipython",
    "version": 3
   },
   "file_extension": ".py",
   "mimetype": "text/x-python",
   "name": "python",
   "nbconvert_exporter": "python",
   "pygments_lexer": "ipython3",
   "version": "3.7.4"
  }
 },
 "nbformat": 4,
 "nbformat_minor": 4
}
