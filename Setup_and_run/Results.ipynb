{
 "cells": [
  {
   "cell_type": "code",
   "execution_count": null,
   "metadata": {},
   "outputs": [],
   "source": [
    "%matplotlib inline\n",
    "import numpy as np\n",
    "import pandas as pa\n",
    "import seaborn as sns\n",
    "import matplotlib.pyplot as plt\n",
    "import matplotlib.gridspec as gridspec\n",
    "import glob, os\n",
    "import matplotlib.style as style \n",
    "#style.available\n",
    "plt.style.use('seaborn') \n",
    "#style.use('seaborn-poster') #sets the size of the charts\n",
    "import pprint\n",
    "from IPython.display import HTML\n",
    "\n",
    "filled_markers = ('o', 'v', '^', '<', '>', '8', 's', 'p', '*', 'h', 'H', 'D', 'd', 'P', 'X')\n",
    "dash_styles = [\"\",\n",
    "               (4, 1.5),\n",
    "               (1, 1),\n",
    "               (3, 1, 1.5, 1),\n",
    "               (5, 1, 1, 1),\n",
    "               (5, 1, 2, 1, 2, 1),\n",
    "               (2, 2, 3, 1.5),\n",
    "               (1, 2.5, 3, 1.2),\n",
    "              (4,2,2,1)]\n",
    "\n",
    "import warnings\n",
    "warnings.simplefilter(action='ignore', category=FutureWarning)"
   ]
  },
  {
   "cell_type": "code",
   "execution_count": null,
   "metadata": {},
   "outputs": [],
   "source": [
    "#Clean up result directory first\n",
    "results_path = 'timing_results/*'\n",
    "r = glob.glob(results_path)\n",
    "for i in r:\n",
    "    os.remove(i)\n",
    "\n",
    "#Then clean the plan directory\n",
    "plans_path = 'query_plans/*'\n",
    "r = glob.glob(plans_path)\n",
    "for i in r:\n",
    "    os.remove(i)\n",
    "    \n",
    "#Then clean the timing_results directory\n",
    "timing_histogram_path = 'hist_timing_results/*'\n",
    "r = glob.glob(timing_histogram_path)\n",
    "for i in r:\n",
    "    os.remove(i)\n",
    "    \n",
    "#Setup variables\n",
    "result_list = []\n",
    "histogram_timing_results_list = []\n",
    "query_plan_list = []\n",
    "i = -1"
   ]
  },
  {
   "cell_type": "markdown",
   "metadata": {},
   "source": [
    "# Format the .result files from our mtr run so that we can import them using pandas csv importer"
   ]
  },
  {
   "cell_type": "code",
   "execution_count": null,
   "metadata": {},
   "outputs": [],
   "source": [
    "with open(\"/home/svestrhe/Documents/Forprosjekt/code/mysql-server/mysql-test/suite/histogram_plugin/r/execute_timing.result\") as openfileobject:\n",
    "    for line in openfileobject:\n",
    "        if not \"#\" in line[:5]:\n",
    "            if \"Query\" in line:\n",
    "                i+=1\n",
    "                result_list.append([line]) \n",
    "                query_plan_list.append([])\n",
    "            if \"Analyse statement\" in line[:17]:\n",
    "                histogram_timing_results_list.append([line])\n",
    "            if \"select\" in line[:8]:\n",
    "                result_list[i].append(line)\n",
    "            if \"EXPLAIN\" in line[:7] or \"->\" in line or \"id\" in line[:4] or \"1\" in line[:2]:\n",
    "                query_plan_list[i].append(line)\n",
    "            if \"explain\" in line[:7]:\n",
    "                query_plan_list[i].append(\"\\n\")\n",
    "                query_plan_list[i].append(line)\n",
    "            if \"analyze table measurement\" in line.lower():\n",
    "                histogram_timing_results_list[i].append(line)\n",
    "    i = -1   #Cleanup\n"
   ]
  },
  {
   "cell_type": "code",
   "execution_count": null,
   "metadata": {},
   "outputs": [],
   "source": [
    "#Export the timing results for queries\n",
    "array_result = np.array(result_list)\n",
    "result_list=[]      #Cleanup so that we can run the cells again and again without having to restart our kernel. \n",
    "counter = 0\n",
    "for result in array_result:\n",
    "    string=\"timing_results/{}.csv\".format(counter)\n",
    "    f = open(string,\"w+\")\n",
    "    for line in result:\n",
    "        f.write(line)\n",
    "    f.close()\n",
    "    counter+=1\n",
    "\n",
    "    \n",
    "#Export the timing results for histograms\n",
    "array_hist_result = np.array(histogram_timing_results_list)\n",
    "histogram_timing_results_list = []\n",
    "counter = 0\n",
    "for hist_result in array_hist_result:\n",
    "    string=\"hist_timing_results/{}.csv\".format(counter)\n",
    "    f = open(string,\"w+\")\n",
    "    for line in hist_result:\n",
    "        f.write(line)\n",
    "    f.close()\n",
    "    counter+=1"
   ]
  },
  {
   "cell_type": "markdown",
   "metadata": {},
   "source": [
    "# Now let's import the csv files into a dataframe. "
   ]
  },
  {
   "cell_type": "code",
   "execution_count": null,
   "metadata": {},
   "outputs": [],
   "source": [
    "result_files = sorted(glob.glob(results_path),key=lambda x: int(x.split('.')[0][15:]))\n",
    "frames = []\n",
    "helper = []\n",
    "counter = 0\n",
    "for file in result_files:\n",
    "    temp_df = pa.read_csv(str(file),'\\t')\n",
    "    helper.append([temp_df.iloc[0]['Test type'],counter])\n",
    "    frames.append(temp_df)\n",
    "    counter+=1\n",
    "\n",
    "result_df = pa.concat(frames,sort=False)\n",
    "\n",
    "\n",
    "\n",
    "hist_result_files = sorted(glob.glob(timing_histogram_path),key=lambda x: int(x.split('.')[0][20:]))\n",
    "frames = []\n",
    "counter = 0\n",
    "for file in hist_result_files:\n",
    "    temp_df = pa.read_csv(str(file),'\\t')\n",
    " #   helper.append([temp_df.iloc[0]['Test type'],counter])\n",
    "    frames.append(temp_df)\n",
    "    counter+=1\n",
    "\n",
    "hist_result_df = pa.concat(frames,sort=False)\n"
   ]
  },
  {
   "cell_type": "code",
   "execution_count": null,
   "metadata": {},
   "outputs": [],
   "source": [
    "\n",
    "#Export the query_plans\n",
    "array_query_plan = np.array(query_plan_list)\n",
    "query_plan_list=[]\n",
    "counter = 0\n",
    "for plan_set in array_query_plan:\n",
    "    string=\"query_plans/plan_{}_{}.txt\".format(counter,helper[counter][0].strip())\n",
    "    f = open(string,\"w+\")\n",
    "    for plan in plan_set:\n",
    "        f.write(plan)\n",
    "    f.close()\n",
    "    counter+=1"
   ]
  },
  {
   "cell_type": "code",
   "execution_count": null,
   "metadata": {},
   "outputs": [],
   "source": [
    "#Create the sensitivity DF\n",
    "sensitivity_df = result_df.groupby(['Test type','Supplied parameters']).sum().reset_index()\n",
    "sensitivity_df = sensitivity_df[['Test type','Supplied parameters','Duration']]\n",
    "sensitivity_df = sensitivity_df.rename(columns={\"Duration\": \"Query execution duration\"})\n",
    "sensitivity_df_hist_data = hist_result_df.groupby(['Test type','Supplied parameters']).sum().reset_index().rename(columns={\"Duration\": \"Histogram execution duration\"})\n",
    "temp = pa.merge(sensitivity_df,sensitivity_df_hist_data,how='outer',on=['Test type','Supplied parameters'])\n",
    "temp = temp.fillna(0)\n",
    "temp['Query and histogram execution duration'] = temp['Query execution duration'] + temp['Histogram execution duration']\n",
    "df_5 = temp\n",
    "temp = temp.drop(columns = ['Histogram execution duration'])\n",
    "temp = temp.set_index(['Test type','Supplied parameters'])\n",
    "sensitivity_df = pa.DataFrame(temp,index = temp.index).stack()\n",
    "#new_df = new_df.columns(['Test type'])\n",
    "sensitivity_df = sensitivity_df.to_frame()\n",
    "sensitivity_df =sensitivity_df.reset_index()\n",
    "sensitivity_df.columns = ['Test type','Supplied parameters','Duration type','Duration']\n",
    "\n",
    "#Splitting the params for the base classes test types\n",
    "temp_data_df = sensitivity_df.loc[sensitivity_df['Test type'].isin(['No histogram ','Perfect histogram ','Stale histogram '])]\n",
    "temp_data_df = temp_data_df.set_index(['Test type','Duration type','Duration'])\n",
    "temp_data_df = pa.DataFrame(temp_data_df['Supplied parameters'].str.split(' ').tolist(),index = temp_data_df.index).stack()\n",
    "temp_data_df = temp_data_df.to_frame()\n",
    "temp_data_df = temp_data_df.reset_index()\n",
    "temp_data_df = temp_data_df.drop(columns='level_3')\n",
    "temp_data_df.columns=['Test type','Duration type','Duration','Supplied parameters']\n",
    "sensitivity_df = sensitivity_df.loc[~sensitivity_df['Test type'].isin(['No histogram ','Perfect histogram ','Stale histogram '])]\n",
    "sensitivity_df = sensitivity_df.append(temp_data_df, ignore_index=True,sort=False)\n",
    "\n",
    "#Before we remove some rows, let's save this to another df\n",
    "full_sensitivity_df = sensitivity_df\n",
    "\n",
    "#Removing the query and histogram execution duration for the base classes since we don't want that to show up in our plots. \n",
    "temp_3 = sensitivity_df\n",
    "temp_3 = temp_3.loc[temp_3['Test type'].isin(['No histogram ','Perfect histogram ','Stale histogram ']) & temp_3['Duration type'].isin(['Query and histogram execution duration'])]\n",
    "temp_4 = pa.merge(sensitivity_df,temp_3, indicator=True, how='outer').query('_merge==\"left_only\"').drop('_merge', axis=1)\n",
    "sensitivity_df = temp_4"
   ]
  },
  {
   "cell_type": "markdown",
   "metadata": {},
   "source": [
    "# Format the queries to be q1 q2 etc. add a result_ratio column and a formatted query column"
   ]
  },
  {
   "cell_type": "code",
   "execution_count": null,
   "metadata": {},
   "outputs": [],
   "source": [
    "i=1\n",
    "replace_dictionary = {}\n",
    "unique_queries = result_df.Query.unique().tolist()\n",
    "for query in unique_queries:\n",
    "    name = 'q{}'.format(i)\n",
    "    replace_dictionary[query]=name\n",
    "    i+=1\n",
    "\n",
    "result_df['Short_Query']=result_df['Query'].replace(replace_dictionary)\n",
    "\n",
    "partition_size = min(result_df[\"Number of Inserts\"].unique().tolist())\n",
    "result_df['Result_ratio']=result_df['Returned rows']/partition_size\n",
    "\n",
    "queries = result_df['Query'].tolist()\n",
    "short_query_format=[]\n",
    "for query in queries:\n",
    "    no_of_joins = query.count('join')\n",
    "    where_predicate_value = query.split(\"test.measurement.msm_value\",1)[1]\n",
    "    short_query_format.append('Query with '+str(no_of_joins)+' joins and WHERE MSM_VALUE' +where_predicate_value)\n",
    "result_df['Short_query_format']=short_query_format\n",
    "\n",
    "\n"
   ]
  },
  {
   "cell_type": "code",
   "execution_count": null,
   "metadata": {},
   "outputs": [],
   "source": [
    "unformatted_plan_files = glob.glob(plans_path)\n",
    "for file in unformatted_plan_files:\n",
    "    output_file_name=file+\".tmp\"\n",
    "    with open(file, 'r') as f, open(output_file_name, 'w+') as fo:\n",
    "        for line in f:\n",
    "            formatted_line = line.replace('explain format = tree ', '').replace(\";\",\"\") \n",
    "           # print(formatted_line) \n",
    "            for query,key in replace_dictionary.items():\n",
    "                if query==formatted_line:\n",
    "                    fo.write(key)\n",
    "                    break\n",
    "            fo.write(line)\n",
    "    os.remove(file)"
   ]
  },
  {
   "cell_type": "markdown",
   "metadata": {},
   "source": [
    "## Prelim-results, don't run unless running prelim tests"
   ]
  },
  {
   "cell_type": "code",
   "execution_count": null,
   "metadata": {},
   "outputs": [],
   "source": [
    "#ax=sns.lineplot(x=\"Number of Inserts\", y=\"Duration\",\n",
    "#            hue=\"Test type\", markers=True,\n",
    "#            data=result_df[result_df.Short_Query.isin(['q2'])])\n",
    "#q2_prelim_line_plot = plt.gcf()\n",
    "#q2_prelim_line_plot.savefig(\"/export/home/tmp/Dropbox/Apper/ShareLaTeX/Master/plots/prelim/q2_prelim_line_plot.png\",dpi=360)\n",
    "#plt.show()"
   ]
  },
  {
   "cell_type": "markdown",
   "metadata": {},
   "source": [
    "## Standard results"
   ]
  },
  {
   "cell_type": "code",
   "execution_count": null,
   "metadata": {},
   "outputs": [],
   "source": [
    "base_rules = ['No histogram ','Perfect histogram ','Stale histogram ']\n",
    "for rule in result_df['Test type'].unique().tolist():\n",
    "    if rule not in base_rules:\n",
    "        base_rules.append(rule)\n",
    "        temp = result_df.set_index('Test type')\n",
    "        temp = temp.loc[base_rules]\n",
    "        temp = temp.reset_index()\n",
    "        for query in temp.Short_Query.unique().tolist():\n",
    "            fig = plt.figure(figsize=(13,9))\n",
    "            gs = gridspec.GridSpec(nrows=4, \n",
    "                                   ncols=1, \n",
    "                                   figure=fig, \n",
    "                                   height_ratios=[1, 1, 1, 1],\n",
    "                                   wspace=0.3,\n",
    "                                   hspace=0.3)\n",
    "\n",
    "            ax1 = fig.add_subplot(gs[1:3,0])\n",
    "            sns.lineplot(x=\"Number of Inserts\", y=\"Duration\",\n",
    "                         hue=\"Test type\", style=\"Test type\",markers = True,dashes = True,\n",
    "                         data=temp[temp.Short_Query.isin([query])],ax=ax1)\n",
    "            xlabels = ['{:,.0f}'.format(x) + 'K' for x in ax1.get_xticks()/1000]\n",
    "            ax1.set_xticklabels(xlabels)\n",
    "            ax1.set_xlabel(\"Number of updates\")\n",
    "            ax1.set_ylabel(\"Duration (s)\")\n",
    "           # ax1.set_title(str(result_df['Short_query_format'][result_df.Short_Query.isin([query])].iloc[0]))\n",
    "\n",
    "            ax2 = fig.add_subplot(gs[0, 0])\n",
    "\n",
    "            all_hist = result_df[result_df[\"Test type\"].str.contains('Perfect histogram')]\n",
    "            index_position = all_hist[all_hist.Short_Query.isin([query])].index[0]\n",
    "            final = all_hist[all_hist.Short_Query.isin([query])].loc[index_position]\n",
    "            sns.barplot(x=\"Number of Inserts\", y=\"Result_ratio\",data=final ,ax=ax2, color=sns.xkcd_rgb[\"denim blue\"])\n",
    "\n",
    "\n",
    "            ax2.spines['right'].set_visible(False)\n",
    "            ax2.spines['top'].set_visible(False)\n",
    "            #ax2.xaxis.set_major_locator(ax1.xaxis.get_major_locator())\n",
    "            #ax2.set_xticklabels(ax1.get_xticklabels())\n",
    "            ax2.set_xticklabels(\"\")\n",
    "            ax2.margins(x=ax1.margins()[0]-0.01)\n",
    "            ax2.set_xlabel(\"\")\n",
    "            ax2.set_ylabel(\"Result size ratio\")\n",
    "          #  ax2.set_title(str(result_df['Short_query_format'][result_df.Short_Query.isin([query])].iloc[0]))\n",
    "\n",
    "            #fig.suptitle(str(result_df['Short_query_format'][result_df.Short_Query.isin([query])].iloc[0]),y=0.9)\n",
    "\n",
    "            line_plot = plt.gcf()\n",
    "            path = \"/export/home/tmp/Dropbox/Apper/ShareLaTeX/Master/eval_plots/line_plots/all_q_plots/\"\n",
    "            name = str(temp['Short_query_format'][temp.Short_Query.isin([query])].iloc[0])+str(base_rules)+\".png\"\n",
    "            line_plot.savefig(path+name,dpi=360,bbox_inches='tight')\n",
    "            plt.clf()\n",
    "        base_rules.pop()\n",
    "    if rule == 'No histogram ':\n",
    "        temp = result_df.set_index('Test type')\n",
    "        temp = temp.loc[base_rules]\n",
    "        temp = temp.reset_index()\n",
    "        for query in temp.Short_Query.unique().tolist():\n",
    "            fig = plt.figure(figsize=(13,9))\n",
    "            gs = gridspec.GridSpec(nrows=4, \n",
    "                                   ncols=1, \n",
    "                                   figure=fig, \n",
    "                                   height_ratios=[1, 1, 1, 1],\n",
    "                                   wspace=0.3,\n",
    "                                   hspace=0.3)\n",
    "\n",
    "            ax1 = fig.add_subplot(gs[1:3,0])\n",
    "            sns.lineplot(x=\"Number of Inserts\", y=\"Duration\",\n",
    "                         hue=\"Test type\", style=\"Test type\",markers = True,dashes = True,\n",
    "                         data=temp[temp.Short_Query.isin([query])],ax=ax1)\n",
    "            xlabels = ['{:,.0f}'.format(x) + 'K' for x in ax1.get_xticks()/1000]\n",
    "            ax1.set_xticklabels(xlabels)\n",
    "            ax1.set_xlabel(\"Number of updates\")\n",
    "            ax1.set_ylabel(\"Duration (s)\")\n",
    "           # ax1.set_title(str(result_df['Short_query_format'][result_df.Short_Query.isin([query])].iloc[0]))\n",
    "\n",
    "            ax2 = fig.add_subplot(gs[0, 0])\n",
    "\n",
    "            all_hist = result_df[result_df[\"Test type\"].str.contains('Perfect histogram')]\n",
    "            index_position = all_hist[all_hist.Short_Query.isin([query])].index[0]\n",
    "            final = all_hist[all_hist.Short_Query.isin([query])].loc[index_position]\n",
    "            sns.barplot(x=\"Number of Inserts\", y=\"Result_ratio\",data=final ,ax=ax2, color=sns.xkcd_rgb[\"denim blue\"])\n",
    "\n",
    "\n",
    "            ax2.spines['right'].set_visible(False)\n",
    "            ax2.spines['top'].set_visible(False)\n",
    "            #ax2.xaxis.set_major_locator(ax1.xaxis.get_major_locator())\n",
    "            #ax2.set_xticklabels(ax1.get_xticklabels())\n",
    "            ax2.set_xticklabels(\"\")\n",
    "            ax2.margins(x=ax1.margins()[0]-0.01)\n",
    "            ax2.set_xlabel(\"\")\n",
    "            ax2.set_ylabel(\"Result size ratio\")\n",
    "          #  ax2.set_title(str(result_df['Short_query_format'][result_df.Short_Query.isin([query])].iloc[0]))\n",
    "\n",
    "            #fig.suptitle(str(result_df['Short_query_format'][result_df.Short_Query.isin([query])].iloc[0]),y=0.9)\n",
    "\n",
    "            line_plot = plt.gcf()\n",
    "            path = \"/export/home/tmp/Dropbox/Apper/ShareLaTeX/Master/eval_plots/line_plots/all_q_plots/\"\n",
    "            name = str(temp['Short_query_format'][temp.Short_Query.isin([query])].iloc[0])+str(base_rules)+\".png\"\n",
    "            line_plot.savefig(path+name,dpi=360,bbox_inches='tight')\n",
    "            plt.clf()\n",
    "    \n",
    "fig = plt.figure(figsize=(9,6))\n",
    "ax3=sns.barplot(x=\"Test type\", y=\"Duration\",hue=\"Test type\", data=hist_result_df, estimator=sum,ci=None,dodge = False,palette = sns.color_palette(\"Paired\", 9))\n",
    "ax3.set_xticklabels(\"\")\n",
    "ax3.set_xlabel(\"\")\n",
    "ax3.set_ylabel(\"Duration (s)\")\n",
    "hist_timing_plt = plt.gcf()\n",
    "hist_timing_plt.savefig(\"/export/home/tmp/Dropbox/Apper/ShareLaTeX/Master/eval_plots/histogram_timing.png\",dpi=360,bbox_inches='tight')"
   ]
  },
  {
   "cell_type": "markdown",
   "metadata": {},
   "source": [
    "# One off plots#"
   ]
  },
  {
   "cell_type": "code",
   "execution_count": null,
   "metadata": {},
   "outputs": [],
   "source": [
    "query = 'q4'\n",
    "rules = ['No histogram ','Perfect histogram ','Stale histogram ']\n",
    "fig = plt.figure(figsize=(13,9))\n",
    "gs = gridspec.GridSpec(nrows=4, \n",
    "                       ncols=1, \n",
    "                       figure=fig, \n",
    "                       height_ratios=[1, 1, 1, 1],\n",
    "                       wspace=0.3,\n",
    "                       hspace=0.3)\n",
    "\n",
    "ax1 = fig.add_subplot(gs[1:3,0])\n",
    "sns.lineplot(x=\"Number of Inserts\", y=\"Duration\",\n",
    "             hue=\"Test type\", style=\"Test type\", markers=True,ci=99,\n",
    "             data=result_df[result_df.Short_Query.isin([query])& result_df['Test type'].isin(rules)],ax=ax1)\n",
    "xlabels = ['{:,.0f}'.format(x) + 'K' for x in ax1.get_xticks()/1000]\n",
    "ax1.set_xticklabels(xlabels)\n",
    "ax1.set_xlabel(\"Number of updates\")\n",
    "ax1.set_ylabel(\"Duration (s)\")\n",
    "# ax1.set_title(str(result_df['Short_query_format'][result_df.Short_Query.isin([query])].iloc[0]))\n",
    "\n",
    "ax2 = fig.add_subplot(gs[0, 0])\n",
    "\n",
    "all_hist = result_df[result_df[\"Test type\"].str.contains('Perfect histogram')]\n",
    "index_position = all_hist[all_hist.Short_Query.isin([query])].index[0]\n",
    "final = all_hist[all_hist.Short_Query.isin([query])].loc[index_position]\n",
    "sns.barplot(x=\"Number of Inserts\", y=\"Result_ratio\",data=final ,ax=ax2, color=sns.xkcd_rgb[\"denim blue\"])\n",
    "\n",
    "\n",
    "ax2.spines['right'].set_visible(False)\n",
    "ax2.spines['top'].set_visible(False)\n",
    "#ax2.xaxis.set_major_locator(ax1.xaxis.get_major_locator())\n",
    "#ax2.set_xticklabels(ax1.get_xticklabels())\n",
    "ax2.set_xticklabels(\"\")\n",
    "ax2.margins(x=ax1.margins()[0]-0.01)\n",
    "ax2.set_xlabel(\"\")\n",
    "ax2.set_ylabel(\"Result size ratio\")\n",
    "#  ax2.set_title(str(result_df['Short_query_format'][result_df.Short_Query.isin([query])].iloc[0]))\n",
    "\n",
    "#fig.suptitle(str(result_df['Short_query_format'][result_df.Short_Query.isin([query])].iloc[0]),y=0.9)\n",
    "\n",
    "line_plot = plt.gcf()\n",
    "\n",
    "path = \"/export/home/tmp/Dropbox/Apper/ShareLaTeX/Master/eval_plots/line_plots/\"\n",
    "name = str(result_df['Short_query_format'][result_df.Short_Query.isin([query])].iloc[0])+str(rules)+\".png\"\n",
    "line_plot.savefig(path+name,dpi=360,bbox_inches='tight')\n",
    "plt.clf()"
   ]
  },
  {
   "cell_type": "markdown",
   "metadata": {},
   "source": [
    "# Generate Q-ratio data#"
   ]
  },
  {
   "cell_type": "code",
   "execution_count": null,
   "metadata": {},
   "outputs": [],
   "source": [
    "q_ratio_df=df_5.loc[df_5['Test type'].isin(['No histogram ','Perfect histogram ','Stale histogram '])].groupby(['Test type']).mean().reset_index()\n",
    "q_ratio_df['Supplied parameters'] = 'Not applicable'\n",
    "q_ratio_df = q_ratio_df.append(df_5.loc[~df_5['Test type'].isin(['No histogram ','Perfect histogram ','Stale histogram '])],ignore_index=True,sort=False)\n",
    "q_ratio_df = q_ratio_df[['Test type','Query execution duration','Histogram execution duration','No_of_executes','Query and histogram execution duration','Supplied parameters']]\n",
    "q_ratio_df=q_ratio_df.rename(columns={\"Query and histogram execution duration\": \"Total duration\", \"No_of_executes\": \"Number of histogram udpates/creates\"})\n",
    "q_ratio_df['Q-ratio']=q_ratio_df['Total duration'].apply(lambda x: x/q_ratio_df['Total duration'].loc[q_ratio_df['Test type']=='Perfect histogram '], 0)\n",
    "q_ratio_df = q_ratio_df.sort_values('Q-ratio')\n",
    "q_ratio_df.head(5000)"
   ]
  },
  {
   "cell_type": "markdown",
   "metadata": {},
   "source": [
    "# Generate sensitivity plots#"
   ]
  },
  {
   "cell_type": "code",
   "execution_count": null,
   "metadata": {},
   "outputs": [],
   "source": [
    "base_rules = ['No histogram ','Perfect histogram ','Stale histogram ']\n",
    "rules_to_avoid_for_now = ['Plugin rule 9','Plugin rule 0']\n",
    "for rule in sensitivity_df['Test type'].unique().tolist():\n",
    "    if rule == 'No histogram ':\n",
    "        temp = sensitivity_df.set_index('Test type')\n",
    "        temp = temp.loc[base_rules]\n",
    "        temp = temp.reset_index()\n",
    "        fig = plt.figure(figsize=(13,9))\n",
    "        gs = gridspec.GridSpec(nrows=4, \n",
    "                           ncols=1, \n",
    "                           figure=fig, \n",
    "                           height_ratios=[1, 1, 1, 1],\n",
    "                           wspace=0.3,\n",
    "                           hspace=0.3)\n",
    "        ax1 = fig.add_subplot(gs[1:3,0])\n",
    "        sns.lineplot(x=\"Supplied parameters\", y=\"Duration\",\n",
    "                     markers=True, hue = 'Test type', style = 'Duration type',\n",
    "                     data=temp,ax=ax1)\n",
    "        xlabels = [float(x) for x in ax1.get_xticks()]\n",
    "        ax1.set_xticklabels(xlabels)\n",
    "        ax1.set_ylabel(\"Duration (s)\")\n",
    "        sensitivity_plot = plt.gcf()\n",
    "        path = \"/export/home/tmp/Dropbox/Apper/ShareLaTeX/Master/eval_plots/sensitivity_plots/\"\n",
    "        name = str(base_rules)+\".png\"\n",
    "        sensitivity_plot.savefig(path+name,dpi=360,bbox_inches='tight')\n",
    "        plt.clf()\n",
    "    if rule not in base_rules and rule not in rules_to_avoid_for_now:\n",
    "        base_rules.append(rule)\n",
    "        temp = sensitivity_df.set_index('Test type')\n",
    "        temp = temp.loc[base_rules]\n",
    "        temp = temp.reset_index()\n",
    "        temp=temp.astype({'Supplied parameters': 'float'})\n",
    "        holder = temp.groupby('Test type')\n",
    "        holder = holder.apply(lambda x: x['Supplied parameters'].unique())\n",
    "        unique_params_we_want_to_use = holder.loc[rule].tolist()\n",
    "        temp = temp.loc[temp['Supplied parameters'].isin(unique_params_we_want_to_use)]\n",
    "        fig = plt.figure(figsize=(13,9))\n",
    "        gs = gridspec.GridSpec(nrows=4, \n",
    "                           ncols=1, \n",
    "                           figure=fig, \n",
    "                           height_ratios=[1, 1, 1, 1],\n",
    "                           wspace=0.3,\n",
    "                           hspace=0.3)\n",
    "        ax1 = fig.add_subplot(gs[1:3,0])\n",
    "        sns.lineplot(x=\"Supplied parameters\", y=\"Duration\",\n",
    "                     markers=True, hue = 'Test type', style = 'Duration type',\n",
    "                     data=temp,ax=ax1)\n",
    "        ax1.set_ylabel(\"Duration (s)\")\n",
    "        sensitivity_plot = plt.gcf()\n",
    "        path = \"/export/home/tmp/Dropbox/Apper/ShareLaTeX/Master/eval_plots/sensitivity_plots/\"\n",
    "        name = str(base_rules)+\".png\"\n",
    "        sensitivity_plot.savefig(path+name,dpi=360,bbox_inches='tight')\n",
    "        plt.clf()\n",
    "        base_rules.pop()"
   ]
  },
  {
   "cell_type": "markdown",
   "metadata": {},
   "source": [
    "# Average q-ratio, må kanskje endre slik at vi lager en q-ratio for hvert sett med parameter verdier , Ser ut som at denne kanskje er litt feil, se på q-ratio...#"
   ]
  },
  {
   "cell_type": "code",
   "execution_count": null,
   "metadata": {},
   "outputs": [],
   "source": [
    "q_ratio_df = result_df.groupby(['Test type','Supplied parameters']).sum().reset_index()\n",
    "q_ratio_df = q_ratio_df[['Test type','Duration','Supplied parameters']]\n",
    "q_ratio_df = q_ratio_df.groupby(['Test type']).mean().reset_index()\n",
    "q_ratio_df['Q-ratio']=q_ratio_df['Duration'].apply(lambda x: x/q_ratio_df['Duration'].loc[q_ratio_df['Test type']=='Perfect histogram '], 0)\n",
    "q_ratio_df = q_ratio_df.sort_values('Q-ratio')\n",
    "#q_ratio_df.head(100)\n",
    "\n",
    "hist_result_df=hist_result_df.astype({'No_of_executes': 'int32'})\n",
    "histogram_data = hist_result_df.groupby(['Test type','Supplied parameters'])['Duration','No_of_executes'].sum().reset_index()\n",
    "histogram_data = histogram_data.groupby(['Test type']).mean().reset_index()\n",
    "histogram_data=histogram_data.rename(columns={\"Duration\": \"Time spent computing histograms (s)\", \"No_of_executes\": \"Number of histogram udpates/creates\"})\n",
    "#histogram_data.head(50)\n",
    "\n",
    "merged_df = q_ratio_df.merge(histogram_data, how = 'outer', on = ['Test type'])\n",
    "merged_df = merged_df.fillna(0)\n",
    "merged_df = merged_df.astype({'Number of histogram udpates/creates':'int32'})\n",
    "merged_df.head(50)"
   ]
  },
  {
   "cell_type": "code",
   "execution_count": null,
   "metadata": {},
   "outputs": [],
   "source": [
    "#neste forsøk på Q-ratio\n",
    "q_ratio_df=df_5.loc[df_5['Test type'].isin(['No histogram ','Perfect histogram ','Stale histogram '])].groupby(['Test type']).mean().reset_index()\n",
    "q_ratio_df['Supplied parameters'] = 'Not applicable'\n",
    "q_ratio_df = q_ratio_df.append(df_5.loc[~df_5['Test type'].isin(['No histogram ','Perfect histogram ','Stale histogram '])],ignore_index=True,sort=False)\n",
    "q_ratio_df = q_ratio_df[['Test type','Query execution duration','Histogram execution duration','No_of_executes','Query and histogram execution duration','Supplied parameters']]\n",
    "q_ratio_df=q_ratio_df.rename(columns={\"Query and histogram execution duration\": \"Total duration\", \"No_of_executes\": \"Number of histogram udpates/creates\"})\n",
    "q_ratio_df['Q-ratio']=q_ratio_df['Total duration'].apply(lambda x: x/q_ratio_df['Total duration'].loc[q_ratio_df['Test type']=='Perfect histogram '], 0)\n",
    "q_ratio_df = q_ratio_df.sort_values('Q-ratio')"
   ]
  },
  {
   "cell_type": "code",
   "execution_count": null,
   "metadata": {},
   "outputs": [],
   "source": [
    "q_ratio_df.head(50)\n",
    "#df_5.head(500)"
   ]
  },
  {
   "cell_type": "code",
   "execution_count": null,
   "metadata": {},
   "outputs": [],
   "source": [
    "##Working og gettign the data we want to create our standard query execution times plots for\n",
    "xlabels = ['{:,.4f}'.format(float(re.sub(\"\\D\", \"\", str(x)))) for x in  ['r=0.1','r=0.2','r=0.4']]\n",
    "a = [re.sub(\"\\d\", \"\", x) for x in ['r=0.1','r=0.2','r=0.4']]\n",
    "print (xlabels)\n",
    "print(ax1.get_xticklabels())"
   ]
  },
  {
   "cell_type": "code",
   "execution_count": null,
   "metadata": {},
   "outputs": [],
   "source": [
    "x='aaa12333bb445bb54b5b52'\n",
    "import re\n",
    "re.sub(\"\\D\", \"\", \"aas30dsa20\")"
   ]
  },
  {
   "cell_type": "code",
   "execution_count": null,
   "metadata": {},
   "outputs": [],
   "source": [
    "df_1 = sensitivity_df.loc[sensitivity_df['Test type'].isin(['Plugin rule 9'])]\n",
    "\n",
    "df_1 = df_1.append([df_1]*2,ignore_index=True)\n",
    "df_1.at[0,'Supplied parameters'] = 'bw=2 I=50000'\n",
    "df_1.at[1,'Supplied parameters'] = 'bw=2 I=50000'\n",
    "df_1.at[2,'Supplied parameters'] = 'bw=200000 I=5'\n",
    "df_1.at[3,'Supplied parameters'] = 'bw=200000 I=5'\n",
    "df_1.at[4,'Supplied parameters'] = 'bw=20 I=50000'\n",
    "df_1.at[5,'Supplied parameters'] = 'bw=20 I=50000'\n",
    "df_1.at[6,'Supplied parameters'] = 'bw=200000 I=500'\n",
    "df_1.at[7,'Supplied parameters'] = 'bw=200000 I=500'\n",
    "df_1.at[8,'Supplied parameters'] = 'bw=200000 I=50'\n",
    "df_1.at[9,'Supplied parameters'] = 'bw=200000 I=50'\n",
    "df_1.at[10,'Supplied parameters'] = 'bw=200000 I=5'\n",
    "df_1.at[11,'Supplied parameters'] = 'bw=200000 I=5'\n",
    "df_1=df_1.set_index(['Test type','Duration type','Duration'])\n",
    "\n",
    "df_2 = pa.DataFrame(df_1['Supplied parameters'].str.split(' ',1).tolist(),index = df_1.index,columns=['param_1','param_2'])\n",
    "df_1 = df_1.reset_index()\n",
    "df_2=df_2.reset_index()\n",
    "data_for_now = df_2.groupby(['param_1'])\n",
    "data_for_now.head(500)"
   ]
  },
  {
   "cell_type": "code",
   "execution_count": null,
   "metadata": {},
   "outputs": [],
   "source": [
    "fig = plt.figure(figsize=(13,9))\n",
    "gs = gridspec.GridSpec(nrows=4, \n",
    "                   ncols=1, \n",
    "                   figure=fig, \n",
    "                   height_ratios=[1, 1, 1, 1],\n",
    "                   wspace=0.3,\n",
    "                   hspace=0.3)\n",
    "ax1 = fig.add_subplot(gs[1:3,0])\n",
    "sns.lineplot(x=\"param_1\", y=\"Duration\",\n",
    "             markers=True, hue = 'param_2', style = 'Duration type',\n",
    "             data=df_2,ax=ax1)\n",
    "ax1.set_ylabel(\"Duration (s)\")\n",
    "#xlabels = ['{:,.4f}'.format(float(re.sub(\"\\D\", \"\", str(x)))) for x in ax1.get_xticks()]\n",
    "#ax1.set_xticklabels(xlabels)\n",
    "ax1.set_xlabel(\"Outside boundary weight parameter\")\n",
    "\n",
    "fig = plt.figure(figsize=(13,9))\n",
    "gs = gridspec.GridSpec(nrows=4, \n",
    "                   ncols=1, \n",
    "                   figure=fig, \n",
    "                   height_ratios=[1, 1, 1, 1],\n",
    "                   wspace=0.3,\n",
    "                   hspace=0.3)\n",
    "ax1 = fig.add_subplot(gs[1:3,0])\n",
    "sns.lineplot(x=\"Supplied parameters\", y=\"Duration\",\n",
    "             markers=True, hue = 'Test type', style = 'Duration type',\n",
    "             data=df_1,ax=ax1)\n",
    "ax1.set_ylabel(\"Duration (s)\")\n",
    "#xlabels = ['{:,.4f}'.format(float(re.sub(\"\\D\", \"\", str(x)))) for x in ax1.get_xticks()]\n",
    "#ax1.set_xticklabels(xlabels)\n",
    "ax1.set_xlabel(\"Supplied parameters\")"
   ]
  },
  {
   "cell_type": "code",
   "execution_count": null,
   "metadata": {},
   "outputs": [],
   "source": [
    "fig = plt.figure(figsize=(9,6))\n",
    "ax3=sns.barplot(x=\"Test type\", y=\"Duration\",hue=\"Test type\", data=hist_result_df[hist_result_df['Test type'].isin(['No histogram ','Perfect histogram ','Stale histogram '])], estimator=sum,ci=None,dodge = False )#,color=sns.xkcd_rgb[\"orange\"])\n",
    "ax3.set_xticklabels(\"\")\n",
    "ax3.set_xlabel(\"\")\n",
    "ax3.set_ylabel(\"Duration (s)\")\n",
    "hist_timing_plt = plt.gcf()\n",
    "hist_timing_plt.savefig(\"/export/home/tmp/Dropbox/Apper/ShareLaTeX/Master/eval_plots/histogram_timing_base.png\",dpi=360,bbox_inches='tight')"
   ]
  },
  {
   "cell_type": "code",
   "execution_count": null,
   "metadata": {},
   "outputs": [],
   "source": [
    "fig = plt.figure(figsize=(9,6))\n",
    "ax3=sns.barplot(x=\"Test type\", y=\"Duration\",hue=\"Test type\", data=hist_result_df, estimator=sum,ci=None,dodge = False )#,color=sns.xkcd_rgb[\"orange\"])\n",
    "ax3.set_xticklabels(\"\")\n",
    "ax3.set_xlabel(\"\")\n",
    "ax3.set_ylabel(\"Duration (s)\")"
   ]
  },
  {
   "cell_type": "code",
   "execution_count": null,
   "metadata": {},
   "outputs": [],
   "source": [
    "sns.palplot(sns.color_palette(\"Paired\", 9))"
   ]
  },
  {
   "cell_type": "code",
   "execution_count": null,
   "metadata": {},
   "outputs": [],
   "source": [
    "new_map = ['#e41a1c','#377eb8','#4daf4a','#984ea3','#ff7f00','#ffff33','#a65628','#f781bf','#999999']\n",
    "sns.palplot(sns.color_palette(new_map))"
   ]
  },
  {
   "cell_type": "code",
   "execution_count": null,
   "metadata": {},
   "outputs": [],
   "source": [
    "d = {'Fixed data without Histograms': result_0_df, 'Fixed data with Histograms': result_1_df}\n",
    "temp=pa.concat(d,axis=1)\n",
    "temp=temp.transpose().drop(index='Average',level=1)\n",
    "temp = temp.drop(index='Returned rows',level=1)\n",
    "#temp = temp.drop(index='Query',level=1)\n",
    "temp2=pa.concat([result_0_df,result_1_df],join='inner',axis=1)\n",
    "temp2=temp2.drop(columns='Average')"
   ]
  },
  {
   "cell_type": "code",
   "execution_count": null,
   "metadata": {},
   "outputs": [],
   "source": [
    "1002%1000"
   ]
  },
  {
   "cell_type": "code",
   "execution_count": null,
   "metadata": {},
   "outputs": [],
   "source": [
    "temp"
   ]
  },
  {
   "cell_type": "code",
   "execution_count": null,
   "metadata": {},
   "outputs": [],
   "source": [
    "temp.unstack(level=0)"
   ]
  },
  {
   "cell_type": "code",
   "execution_count": null,
   "metadata": {},
   "outputs": [],
   "source": [
    "temp.unstack(level=0).transpose()"
   ]
  },
  {
   "cell_type": "code",
   "execution_count": null,
   "metadata": {},
   "outputs": [],
   "source": [
    "plt.errorbar(temp.unstack(level=0)[8].transpose()['Adjusted average'],temp.unstack(level=0)[8].transpose()['Standard Deviation'])"
   ]
  },
  {
   "cell_type": "code",
   "execution_count": null,
   "metadata": {},
   "outputs": [],
   "source": [
    "plt.errorbar([1,2,3,4,5,6,7],[1,2,3,4,5,6,7],yerr=2)"
   ]
  },
  {
   "cell_type": "code",
   "execution_count": null,
   "metadata": {},
   "outputs": [],
   "source": [
    "midx = pa.MultiIndex(levels=[['zero', 'one'], ['x', 'y']],\n",
    "   ....:                      codes=[[1, 1, 0, 0], [1, 0, 1, 0]])\n",
    "df = pa.DataFrame(np.random.randn(4, 2), index=midx)"
   ]
  },
  {
   "cell_type": "code",
   "execution_count": null,
   "metadata": {},
   "outputs": [],
   "source": [
    "df.transpose()"
   ]
  },
  {
   "cell_type": "code",
   "execution_count": null,
   "metadata": {},
   "outputs": [],
   "source": [
    "df.transpose().plot.box()"
   ]
  },
  {
   "cell_type": "code",
   "execution_count": null,
   "metadata": {},
   "outputs": [],
   "source": [
    "midx = pa.MultiIndex(levels=[['without_histogram', 'with_histogram'], ['q1', 'q2', 'q3']],\n",
    "   ....:                      codes=[[1, 1, 0, 0], [1, 0, 1, 0]])\n",
    "df = pa.DataFrame(np.random.randn(4, 4), index=midx)"
   ]
  },
  {
   "cell_type": "code",
   "execution_count": null,
   "metadata": {},
   "outputs": [],
   "source": [
    "df"
   ]
  },
  {
   "cell_type": "code",
   "execution_count": null,
   "metadata": {},
   "outputs": [],
   "source": [
    "\n",
    "iterables = [['without_histogram','with_histogram'], ['q1', 'q2','q3'],['r1','r2','r3','r4','r5','r6','r7','r8']]\n",
    "\n",
    "mindex=pa.MultiIndex.from_product(iterables, names=['Test type', 'Query','Run#'])\n",
    "df = pa.DataFrame(np.random.randn(48), index=mindex)\n",
    "df"
   ]
  },
  {
   "cell_type": "code",
   "execution_count": null,
   "metadata": {},
   "outputs": [],
   "source": [
    "df.unstack(level=1).plot.box()"
   ]
  },
  {
   "cell_type": "code",
   "execution_count": null,
   "metadata": {},
   "outputs": [],
   "source": [
    "df.unstack(level=1)"
   ]
  },
  {
   "cell_type": "code",
   "execution_count": null,
   "metadata": {},
   "outputs": [],
   "source": [
    "series=result_0_df.drop(columns=['Average','Standard Deviation','Returned rows','Query'])\n",
    "series.set_index('Adjusted average')\n",
    "series.dtypes\n",
    "\n",
    "result=pa.DataFrame(result_tot_df['Adjusted average'].values, index=mindex)"
   ]
  },
  {
   "cell_type": "code",
   "execution_count": null,
   "metadata": {},
   "outputs": [],
   "source": [
    "result"
   ]
  },
  {
   "cell_type": "code",
   "execution_count": null,
   "metadata": {},
   "outputs": [],
   "source": [
    "result.unstack(level=[0,1]).boxplot()"
   ]
  },
  {
   "cell_type": "code",
   "execution_count": null,
   "metadata": {},
   "outputs": [],
   "source": [
    "result.unstack(level=[1])"
   ]
  },
  {
   "cell_type": "code",
   "execution_count": null,
   "metadata": {},
   "outputs": [],
   "source": [
    "result"
   ]
  },
  {
   "cell_type": "code",
   "execution_count": null,
   "metadata": {},
   "outputs": [],
   "source": [
    "df = pa.DataFrame(np.random.randn(10, 2),\n",
    "...                   columns=['Col1', 'Col2'])\n",
    ">>> df['X'] = pa.Series(['A', 'A', 'A', 'A', 'A',\n",
    "...                      'B', 'B', 'B', 'B', 'B'])\n",
    ">>> boxplot = df.boxplot(by='X')"
   ]
  },
  {
   "cell_type": "code",
   "execution_count": null,
   "metadata": {},
   "outputs": [],
   "source": [
    "df"
   ]
  },
  {
   "cell_type": "code",
   "execution_count": null,
   "metadata": {},
   "outputs": [],
   "source": [
    "np.random.seed(45)\n",
    "a = pa.DataFrame(index=range(10), \n",
    "                 columns=pa.MultiIndex.from_product(\n",
    "                         iterables=[['2000', '2010'], ['a', 'b']], \n",
    "                         names=['Year', 'Text']), \n",
    "                 data=np.random.randn(10,4))\n",
    "\n",
    "b = a.stack(level=0).reset_index(level=0, drop=True).reset_index()"
   ]
  },
  {
   "cell_type": "code",
   "execution_count": null,
   "metadata": {},
   "outputs": [],
   "source": [
    "b"
   ]
  },
  {
   "cell_type": "code",
   "execution_count": null,
   "metadata": {},
   "outputs": [],
   "source": [
    "b = a.unstack(level=0).reset_index(level=2, drop=True).reset_index(name='data')\n",
    "b.head(15)"
   ]
  },
  {
   "cell_type": "code",
   "execution_count": null,
   "metadata": {},
   "outputs": [],
   "source": [
    "a.head(15)"
   ]
  },
  {
   "cell_type": "code",
   "execution_count": null,
   "metadata": {},
   "outputs": [],
   "source": [
    "ax = sns.boxplot(x='Text', y='data', hue=\"Year\",\n",
    "                 data=b, palette=\"Set3\")"
   ]
  },
  {
   "cell_type": "code",
   "execution_count": null,
   "metadata": {},
   "outputs": [],
   "source": []
  },
  {
   "cell_type": "code",
   "execution_count": null,
   "metadata": {},
   "outputs": [],
   "source": [
    "result_tot_2_df"
   ]
  },
  {
   "cell_type": "code",
   "execution_count": null,
   "metadata": {},
   "outputs": [],
   "source": []
  }
 ],
 "metadata": {
  "kernelspec": {
   "display_name": "Python 3",
   "language": "python",
   "name": "python3"
  },
  "language_info": {
   "codemirror_mode": {
    "name": "ipython",
    "version": 3
   },
   "file_extension": ".py",
   "mimetype": "text/x-python",
   "name": "python",
   "nbconvert_exporter": "python",
   "pygments_lexer": "ipython3",
   "version": "3.7.4"
  }
 },
 "nbformat": 4,
 "nbformat_minor": 4
}
