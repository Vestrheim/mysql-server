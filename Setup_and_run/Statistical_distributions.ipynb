{
 "cells": [
  {
   "cell_type": "code",
   "execution_count": null,
   "metadata": {},
   "outputs": [],
   "source": [
    "import numpy as np\n",
    "import pandas as pa\n",
    "import seaborn as sns\n",
    "import matplotlib.pyplot as plt\n",
    "import matplotlib.style as style \n",
    "import matplotlib.gridspec as gridspec\n",
    "from scipy.stats import norm\n",
    "#style.available\n",
    "#style.use('seaborn-poster') #sets the size of the charts\n",
    "plt.style.use('seaborn')  "
   ]
  },
  {
   "cell_type": "code",
   "execution_count": null,
   "metadata": {},
   "outputs": [],
   "source": [
    "uniform_array = np.random.randint(1,6+1,size=10)\n",
    "ax = sns.distplot(uniform_array,kde=False,bins=6)\n",
    "starty, endy = ax.get_ylim()\n",
    "plt.yticks(np.arange(starty, endy, 1))\n",
    "#plt.xlim(1,10);\n",
    "#plt.xticks(np.arange(0, 10, 1))\n",
    "plt.title(\"\")\n",
    "ax.set_xlabel(\"Value\")\n",
    "ax.set_ylabel(\"Number of occurrences\")\n",
    "uniform_fig = plt.gcf()\n",
    "uniform_fig.savefig(\"/export/home/tmp/Dropbox/Apper/ShareLaTeX/Master/plots/unifrom_distribution_10_runs.png\",dpi=360)\n",
    "plt.show()\n"
   ]
  },
  {
   "cell_type": "code",
   "execution_count": null,
   "metadata": {},
   "outputs": [],
   "source": [
    "uniform_array"
   ]
  },
  {
   "cell_type": "code",
   "execution_count": null,
   "metadata": {},
   "outputs": [],
   "source": [
    "uniform_array = np.random.randint(1,6+1,size=1000)\n",
    "ax = sns.distplot(uniform_array,kde=False,bins=6)\n",
    "starty, endy = ax.get_ylim()\n",
    "plt.yticks(np.arange(starty, endy, 25))\n",
    "#plt.xlim(1,10);\n",
    "#plt.xticks(np.arange(0, 10, 1))\n",
    "plt.title(\"\")\n",
    "ax.set_xlabel(\"Value\")\n",
    "ax.set_ylabel(\"Number of occurrences\")\n",
    "#ax.margins(x=0.05)\n",
    "uniform_fig = plt.gcf()\n",
    "uniform_fig.savefig(\"/export/home/tmp/Dropbox/Apper/ShareLaTeX/Master/plots/unifrom_distribution_1000_runs.png\",dpi=360)\n",
    "plt.show()"
   ]
  },
  {
   "cell_type": "code",
   "execution_count": null,
   "metadata": {},
   "outputs": [],
   "source": [
    "fig = plt.figure(figsize=(9,5))\n",
    "ax = fig.add_subplot()\n",
    "mu, sigma = 0, 1 # mean and standard deviation\n",
    "Normal_array = np.random.normal(mu,sigma,size=10000)\n",
    "ax = sns.distplot(Normal_array,fit=norm,kde=False)\n",
    "starty, endy = ax.get_ylim()\n",
    "plt.yticks([0,0.1,0.2,0.3,0.4])\n",
    "#plt.xlim(1,10);\n",
    "plt.xticks([-4,-3,-2,-1,1,2,3,4])\n",
    "plt.title(\"\")\n",
    "ax.set_xlabel(\"Standard deviations\")\n",
    "ax.set_ylabel(\"Probability of occurrence\")\n",
    "#plt.axvline(x=0)\n",
    "#plt.axvline(x=0,ymax=1,color='grey',linewidth=2)\n",
    "plt.axvline(x=-2,ymax=0.15,color='black',linewidth=2)\n",
    "plt.axvline(x=2,ymax=0.15,color='black',linewidth=2)\n",
    "plt.axvline(x=-1,ymax=0.6,color='black',linewidth=2)\n",
    "plt.axvline(x=1,ymax=0.6,color='black',linewidth=2)\n",
    "plt.axvline(x=-3,ymax=0.04,color='black',linewidth=2)\n",
    "plt.axvline(x=3,ymax=0.04,color='black',linewidth=2)\n",
    "uniform_fig = plt.gcf()\n",
    "uniform_fig.savefig(\"/export/home/tmp/Dropbox/Apper/ShareLaTeX/Master/plots/normal_distribution_10000_runs.png\",dpi=360,bbox_inches='tight')\n",
    "plt.show()"
   ]
  },
  {
   "cell_type": "code",
   "execution_count": null,
   "metadata": {},
   "outputs": [],
   "source": [
    "fig = plt.figure(figsize=(12,4))\n",
    "gs = gridspec.GridSpec(nrows=1, \n",
    "                       ncols=2, \n",
    "                       figure=fig, \n",
    "                       wspace=0.3,\n",
    "                       hspace=0.3)\n",
    "\n",
    "ax1 = fig.add_subplot(gs[0,0])\n",
    "uniform_array = np.random.randint(1,6+1,size=10)\n",
    "ax1 = sns.distplot(uniform_array,kde=False,bins=6)\n",
    "starty, endy = ax1.get_ylim()\n",
    "plt.yticks(np.arange(starty, endy, 1))\n",
    "#plt.xlim(1,10);\n",
    "#plt.xticks(np.arange(0, 10, 1))\n",
    "plt.title(\"10 Draws\")\n",
    "ax1.set_xlabel(\"Value\")\n",
    "ax1.set_ylabel(\"Number of occurrences\")\n",
    "\n",
    "ax2 = fig.add_subplot(gs[0,1])\n",
    "uniform_array = np.random.randint(1,6+1,size=1000)\n",
    "ax2 = sns.distplot(uniform_array,kde=False,bins=6)\n",
    "starty, endy = ax2.get_ylim()\n",
    "plt.yticks(np.arange(starty, endy, 25))\n",
    "#plt.xlim(1,10);\n",
    "#plt.xticks(np.arange(0, 10, 1))\n",
    "plt.title(\"1000 Draws\")\n",
    "ax2.set_xlabel(\"Value\")\n",
    "ax2.set_ylabel(\"Number of occurrences\")\n",
    "#ax.margins(x=0.05)\n",
    "compound_fig = plt.gcf()\n",
    "compound_fig.savefig(\"/export/home/tmp/Dropbox/Apper/ShareLaTeX/Master/plots/compound_distributions.png\",dpi=360,bbox_inches='tight')\n",
    "plt.show()\n"
   ]
  },
  {
   "cell_type": "code",
   "execution_count": null,
   "metadata": {},
   "outputs": [],
   "source": []
  },
  {
   "cell_type": "code",
   "execution_count": null,
   "metadata": {},
   "outputs": [],
   "source": []
  },
  {
   "cell_type": "code",
   "execution_count": null,
   "metadata": {},
   "outputs": [],
   "source": []
  }
 ],
 "metadata": {
  "kernelspec": {
   "display_name": "Python 3",
   "language": "python",
   "name": "python3"
  },
  "language_info": {
   "codemirror_mode": {
    "name": "ipython",
    "version": 3
   },
   "file_extension": ".py",
   "mimetype": "text/x-python",
   "name": "python",
   "nbconvert_exporter": "python",
   "pygments_lexer": "ipython3",
   "version": "3.7.4"
  }
 },
 "nbformat": 4,
 "nbformat_minor": 4
}
